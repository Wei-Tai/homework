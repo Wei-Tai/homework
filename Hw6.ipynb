{
 "cells": [
  {
   "cell_type": "markdown",
   "metadata": {
    "colab_type": "text"
   },
   "source": [
    "This is a companion notebook for the book [Deep Learning with Python, Second Edition](https://www.manning.com/books/deep-learning-with-python-second-edition?a_aid=keras&a_bid=76564dff). For readability, it only contains runnable code blocks and section titles, and omits everything else in the book: text paragraphs, figures, and pseudocode.\n",
    "\n",
    "**If you want to be able to follow what's going on, I recommend reading the notebook side by side with your copy of the book.**\n",
    "\n",
    "This notebook was generated for TensorFlow 2.6."
   ]
  },
  {
   "cell_type": "markdown",
   "metadata": {
    "colab_type": "text"
   },
   "source": [
    "# Working with Keras: A deep dive"
   ]
  },
  {
   "cell_type": "markdown",
   "metadata": {
    "colab_type": "text"
   },
   "source": [
    "## A spectrum of workflows"
   ]
  },
  {
   "cell_type": "markdown",
   "metadata": {
    "colab_type": "text"
   },
   "source": [
    "## Different ways to build Keras models"
   ]
  },
  {
   "cell_type": "markdown",
   "metadata": {
    "colab_type": "text"
   },
   "source": [
    "### The Sequential model"
   ]
  },
  {
   "cell_type": "markdown",
   "metadata": {
    "colab_type": "text"
   },
   "source": [
    "**The `Sequential` class**"
   ]
  },
  {
   "cell_type": "code",
   "execution_count": 1,
   "metadata": {
    "colab_type": "code"
   },
   "outputs": [],
   "source": [
    "from tensorflow import keras\n",
    "from tensorflow.keras import layers\n",
    "\n",
    "model = keras.Sequential([\n",
    "    layers.Dense(64, activation=\"relu\"),\n",
    "    layers.Dense(10, activation=\"softmax\")\n",
    "])"
   ]
  },
  {
   "cell_type": "markdown",
   "metadata": {
    "colab_type": "text"
   },
   "source": [
    "**Incrementally building a Sequential model**"
   ]
  },
  {
   "cell_type": "code",
   "execution_count": 2,
   "metadata": {
    "colab_type": "code"
   },
   "outputs": [],
   "source": [
    "model = keras.Sequential()\n",
    "model.add(layers.Dense(64, activation=\"relu\"))\n",
    "model.add(layers.Dense(10, activation=\"softmax\"))"
   ]
  },
  {
   "cell_type": "markdown",
   "metadata": {
    "colab_type": "text"
   },
   "source": [
    "**Calling a model for the first time to build it**"
   ]
  },
  {
   "cell_type": "code",
   "execution_count": 3,
   "metadata": {
    "colab_type": "code"
   },
   "outputs": [
    {
     "data": {
      "text/plain": [
       "[<tf.Variable 'dense_2/kernel:0' shape=(3, 64) dtype=float32, numpy=\n",
       " array([[ 0.20341146,  0.2748667 ,  0.01111978, -0.07068162, -0.03423572,\n",
       "         -0.22199817,  0.15266994, -0.17085811,  0.14845937, -0.01433343,\n",
       "          0.2879899 ,  0.05674875,  0.01649004,  0.15556878, -0.15855718,\n",
       "         -0.22089115, -0.25644237, -0.01418459, -0.26386142, -0.06445384,\n",
       "          0.14350015,  0.21511585,  0.24404949,  0.21545082,  0.08897725,\n",
       "          0.25152546,  0.22607523, -0.15896557,  0.1414325 , -0.08070807,\n",
       "          0.2120958 , -0.10970895, -0.2939977 , -0.04207093,  0.25503165,\n",
       "          0.22015381,  0.21973675, -0.08352858, -0.14950462, -0.23682195,\n",
       "         -0.17157915, -0.20710146, -0.23610511, -0.097544  ,  0.23119408,\n",
       "         -0.10567817,  0.28832817,  0.10902515, -0.16386963, -0.03082246,\n",
       "          0.24909556, -0.21048084, -0.04375309, -0.23517054, -0.11250326,\n",
       "          0.18092409,  0.13111925, -0.11478595, -0.03812799,  0.26740062,\n",
       "          0.2126463 ,  0.00461203,  0.01425195,  0.03637007],\n",
       "        [ 0.04401779,  0.23355901,  0.25555015, -0.20554659,  0.11416587,\n",
       "         -0.1868662 ,  0.25605315,  0.13878536,  0.25411814, -0.1233647 ,\n",
       "          0.0796577 ,  0.29900485, -0.10459518,  0.09722742,  0.14480433,\n",
       "         -0.18944612,  0.04935187, -0.04043058,  0.13128948,  0.02454731,\n",
       "         -0.22769418,  0.00462639, -0.04618499,  0.07814848, -0.12232366,\n",
       "         -0.18216583,  0.2614454 , -0.08654043, -0.2880515 , -0.2339353 ,\n",
       "          0.24002808,  0.07582164,  0.05347633,  0.26043808, -0.02539328,\n",
       "         -0.08975022,  0.02179343,  0.05048743, -0.21449542, -0.02801591,\n",
       "          0.18041667,  0.19569373, -0.10367352, -0.2955807 ,  0.10127917,\n",
       "          0.15634361,  0.16409439,  0.13635236,  0.02327895, -0.2562383 ,\n",
       "         -0.06700166, -0.0649883 , -0.03740516,  0.16393897, -0.07194369,\n",
       "          0.15212736,  0.19369584,  0.24694973,  0.14777115,  0.07168627,\n",
       "          0.2663145 , -0.14557172, -0.01689366, -0.09259918],\n",
       "        [-0.1665107 , -0.0973368 , -0.0529729 ,  0.18719226,  0.22555715,\n",
       "          0.16002643,  0.26164955, -0.19588837, -0.23425788, -0.0577379 ,\n",
       "          0.06340396, -0.07789376,  0.14595115, -0.05045933,  0.2564451 ,\n",
       "         -0.02748168, -0.29087678,  0.11598945,  0.25832438, -0.17913306,\n",
       "          0.07549649,  0.1727142 ,  0.22732538, -0.24165303, -0.10205615,\n",
       "          0.14487687, -0.2941822 , -0.25168157, -0.24993917,  0.04994664,\n",
       "          0.24466324,  0.05615929,  0.24212539,  0.23611307,  0.01575735,\n",
       "          0.12213761, -0.1510632 , -0.29843622,  0.14192489, -0.1874202 ,\n",
       "         -0.22629328, -0.11754061,  0.24823534, -0.10290091,  0.14106798,\n",
       "          0.00578293, -0.10305251, -0.05973856,  0.00349844, -0.11559139,\n",
       "         -0.16751456,  0.19033483,  0.263308  , -0.26207095, -0.04429185,\n",
       "          0.04605156, -0.1396058 , -0.18363445,  0.19532835,  0.1370903 ,\n",
       "          0.19171724, -0.04160118, -0.24141066,  0.08478209]],\n",
       "       dtype=float32)>,\n",
       " <tf.Variable 'dense_2/bias:0' shape=(64,) dtype=float32, numpy=\n",
       " array([0., 0., 0., 0., 0., 0., 0., 0., 0., 0., 0., 0., 0., 0., 0., 0., 0.,\n",
       "        0., 0., 0., 0., 0., 0., 0., 0., 0., 0., 0., 0., 0., 0., 0., 0., 0.,\n",
       "        0., 0., 0., 0., 0., 0., 0., 0., 0., 0., 0., 0., 0., 0., 0., 0., 0.,\n",
       "        0., 0., 0., 0., 0., 0., 0., 0., 0., 0., 0., 0., 0.], dtype=float32)>,\n",
       " <tf.Variable 'dense_3/kernel:0' shape=(64, 10) dtype=float32, numpy=\n",
       " array([[ 0.24738756,  0.14841679, -0.01507401,  0.03776675,  0.24228528,\n",
       "          0.187731  , -0.1764242 , -0.24940386, -0.1862047 , -0.14902635],\n",
       "        [-0.03988774,  0.10294706,  0.12932643,  0.18496233, -0.27590302,\n",
       "         -0.12244275,  0.0486702 , -0.2773404 , -0.20998645, -0.00937209],\n",
       "        [ 0.2745979 , -0.12791692, -0.22755995,  0.24802437,  0.15454918,\n",
       "          0.21060893, -0.26994622, -0.17271264,  0.14344797, -0.06895459],\n",
       "        [-0.08763663, -0.1479478 ,  0.23921278,  0.09076068, -0.13479218,\n",
       "         -0.22803904, -0.16871825,  0.26346335, -0.14085244,  0.24686566],\n",
       "        [-0.26158744, -0.10924613,  0.19924104, -0.12809092, -0.04956132,\n",
       "          0.17539588,  0.20978728, -0.00528529, -0.07782009, -0.05194783],\n",
       "        [-0.27823913,  0.25204054,  0.1432657 ,  0.2614127 ,  0.24109909,\n",
       "          0.22742823,  0.23746648,  0.15940592,  0.12652057, -0.16250741],\n",
       "        [-0.0073424 ,  0.09511632, -0.09046313,  0.0307374 ,  0.16300553,\n",
       "         -0.06484731,  0.21954325, -0.01204929,  0.27707478,  0.25478032],\n",
       "        [ 0.2485824 ,  0.23344472,  0.04961273,  0.09020936,  0.06954801,\n",
       "          0.24504068, -0.2455661 ,  0.230513  ,  0.22222254, -0.09737369],\n",
       "        [-0.03440699,  0.03188437,  0.25515744,  0.04327095, -0.01124841,\n",
       "         -0.2277313 ,  0.05276459,  0.21262613,  0.1076881 ,  0.02741313],\n",
       "        [-0.24419664, -0.26062804,  0.15546367, -0.03036922,  0.16050613,\n",
       "         -0.06773326,  0.1941163 , -0.09018655, -0.06531641, -0.16758879],\n",
       "        [ 0.2658411 , -0.22260262,  0.16282359, -0.04571168, -0.2355363 ,\n",
       "          0.16647086, -0.13504012,  0.21324942, -0.18438509,  0.10358283],\n",
       "        [-0.24166478,  0.05758399,  0.1419737 , -0.154476  ,  0.08426934,\n",
       "         -0.04397379, -0.09881838, -0.07959409,  0.26353207, -0.2585319 ],\n",
       "        [ 0.03292254, -0.17183246, -0.2744827 , -0.22475877, -0.13795438,\n",
       "         -0.1259626 ,  0.05466706, -0.06081422,  0.03625485, -0.08625463],\n",
       "        [-0.09540036, -0.26497254,  0.12008217, -0.26332268, -0.02530518,\n",
       "          0.27865008, -0.02736786, -0.28220347, -0.22969568,  0.02488902],\n",
       "        [ 0.11195096,  0.18623051,  0.13414967, -0.26391467, -0.16827893,\n",
       "         -0.27945393,  0.14568383,  0.03780586, -0.23767054,  0.22033766],\n",
       "        [ 0.12945983, -0.1941977 ,  0.03689331,  0.02116212,  0.06158212,\n",
       "          0.27290234,  0.23809746, -0.28169054,  0.09441584,  0.02921784],\n",
       "        [ 0.23675862,  0.24882296,  0.2156283 ,  0.15561083, -0.27837682,\n",
       "         -0.02659941, -0.00750589,  0.10617369,  0.15368327, -0.14246854],\n",
       "        [ 0.0669719 ,  0.02214155,  0.2489945 , -0.11949073,  0.06126601,\n",
       "         -0.08841968, -0.2314079 ,  0.155442  , -0.02468678, -0.17065275],\n",
       "        [ 0.0626511 ,  0.17518902,  0.16255772, -0.24740352, -0.01493344,\n",
       "         -0.2028448 , -0.09377496, -0.28163996,  0.01354381,  0.20488995],\n",
       "        [-0.25787017,  0.22176614,  0.24266991, -0.0555934 ,  0.2101227 ,\n",
       "         -0.27327895,  0.06234586,  0.08981243, -0.09572244,  0.23752621],\n",
       "        [ 0.0078539 ,  0.27444163,  0.18197754, -0.22834292,  0.13671237,\n",
       "         -0.09233674, -0.12059964, -0.21562749,  0.05363631,  0.1765272 ],\n",
       "        [ 0.12886915, -0.14303167, -0.2556396 ,  0.0404821 , -0.24200708,\n",
       "          0.0143193 ,  0.14228776, -0.05394132, -0.03849615,  0.1471602 ],\n",
       "        [-0.26451325,  0.24907419,  0.01367959,  0.13412055,  0.07555029,\n",
       "         -0.17057121, -0.08319981,  0.22620544, -0.06786287,  0.2330043 ],\n",
       "        [-0.23286846,  0.15193349,  0.12816045,  0.18821302, -0.10809189,\n",
       "         -0.19356951, -0.04307669,  0.10068029, -0.15521763, -0.16877982],\n",
       "        [-0.21610652,  0.05140349, -0.17772299,  0.23698398, -0.2504112 ,\n",
       "         -0.26630235, -0.06624012,  0.03940392, -0.01315141,  0.2106052 ],\n",
       "        [ 0.17786828,  0.2714434 , -0.2472769 ,  0.2787362 , -0.01401061,\n",
       "          0.26474527, -0.22134912,  0.259841  ,  0.06682789, -0.03179631],\n",
       "        [-0.1065132 , -0.08757989,  0.08292785, -0.23815621,  0.14203152,\n",
       "          0.1632286 , -0.1100754 ,  0.17781866, -0.00971457,  0.18499011],\n",
       "        [ 0.27199665, -0.00680351,  0.27269885, -0.2770604 ,  0.21560189,\n",
       "         -0.2792902 ,  0.04557019,  0.00042167,  0.22645262,  0.00947604],\n",
       "        [ 0.06328523, -0.1778065 ,  0.28399602,  0.23554578, -0.2645032 ,\n",
       "         -0.09833366, -0.18014908,  0.07810277,  0.01207989,  0.27804765],\n",
       "        [ 0.12357894,  0.13824815,  0.20941666,  0.05097288,  0.26278433,\n",
       "          0.09848192, -0.00809354, -0.20524731, -0.14039527,  0.02972591],\n",
       "        [-0.2067563 , -0.21519157, -0.20295674,  0.01433125,  0.01196519,\n",
       "         -0.11531888, -0.00392488,  0.08620718,  0.26774552,  0.28224418],\n",
       "        [ 0.08408415,  0.15873271,  0.14859301,  0.10455012,  0.25133905,\n",
       "          0.01444128, -0.23261924, -0.22802825,  0.19347623,  0.19184223],\n",
       "        [ 0.0383504 ,  0.13545015, -0.21029297,  0.04650462, -0.1026186 ,\n",
       "         -0.17924683,  0.28279015, -0.0358368 ,  0.02980635,  0.15963137],\n",
       "        [-0.07199012, -0.16630507,  0.12617162,  0.09151074,  0.02344039,\n",
       "          0.27088663, -0.2552263 , -0.15402326, -0.18372221,  0.10850316],\n",
       "        [ 0.12631318, -0.02757573, -0.14721297, -0.15286969,  0.0506489 ,\n",
       "          0.11687666,  0.28044125,  0.00277749,  0.18924832,  0.18976277],\n",
       "        [ 0.11649248,  0.12193441,  0.08933753,  0.19808346, -0.05643395,\n",
       "         -0.08036545,  0.12687963,  0.01300815, -0.27975348, -0.15846619],\n",
       "        [ 0.17055032, -0.18406709, -0.22184518,  0.00095499,  0.20152348,\n",
       "         -0.20710504, -0.14102162, -0.04314256, -0.2709727 ,  0.00267768],\n",
       "        [-0.03342417,  0.26797804, -0.1368922 , -0.19788495,  0.07751715,\n",
       "          0.05302721,  0.12850076, -0.15479875, -0.05943437, -0.15606984],\n",
       "        [ 0.03558549,  0.04334784, -0.04751475, -0.25535598, -0.26834378,\n",
       "         -0.19764748,  0.20766547, -0.11753628, -0.25128847,  0.05794176],\n",
       "        [ 0.04171818, -0.1377438 , -0.12263094,  0.06350383, -0.22115143,\n",
       "         -0.17670105,  0.23470649,  0.05417737, -0.09001744, -0.17241374],\n",
       "        [-0.27268153, -0.27989563, -0.09222899,  0.27090582,  0.24967703,\n",
       "          0.22379765, -0.15912594,  0.18557829, -0.10719052,  0.05120587],\n",
       "        [ 0.11627951, -0.11761136,  0.07684153, -0.27281705,  0.05496603,\n",
       "         -0.22847334, -0.06927611,  0.1709413 ,  0.01778394, -0.2645193 ],\n",
       "        [ 0.28053638,  0.09303096,  0.23759088,  0.18159825,  0.02262723,\n",
       "          0.23607233,  0.26315686, -0.14298518, -0.19977675,  0.19848129],\n",
       "        [-0.12650877, -0.03495391, -0.13289747,  0.2602184 ,  0.02031139,\n",
       "         -0.25722232, -0.14619707,  0.04006907, -0.1585042 ,  0.10850886],\n",
       "        [ 0.16604105,  0.20012122, -0.27137893, -0.05974035, -0.03400958,\n",
       "          0.17467564,  0.11963418, -0.01126871, -0.18589622,  0.05284831],\n",
       "        [ 0.09670439, -0.13754095,  0.17921594, -0.26183578,  0.18418849,\n",
       "          0.25718644, -0.2821683 ,  0.01847479, -0.19720444,  0.2508835 ],\n",
       "        [-0.24321124,  0.21485558, -0.22594935, -0.04307412, -0.00453886,\n",
       "         -0.01593545,  0.01168406, -0.00301176, -0.20251927,  0.05845955],\n",
       "        [ 0.03711775, -0.02306056,  0.1472334 , -0.05538099,  0.00584158,\n",
       "          0.2211937 ,  0.10042435, -0.01018369,  0.00755611,  0.00543195],\n",
       "        [ 0.01851076, -0.11382431,  0.00139239, -0.05105963, -0.15256473,\n",
       "         -0.04837313, -0.21805114,  0.2344453 , -0.21505886,  0.19166178],\n",
       "        [-0.22322346, -0.10937533, -0.05590732, -0.13775751,  0.20617583,\n",
       "          0.27401248, -0.0023742 , -0.23186873, -0.04029746, -0.1734263 ],\n",
       "        [ 0.07000184,  0.03534645,  0.06312868,  0.28282306,  0.2621207 ,\n",
       "         -0.21125984,  0.03120854, -0.18971553,  0.11914641, -0.08120789],\n",
       "        [-0.20324907, -0.0184122 , -0.07501315, -0.2623294 , -0.22058773,\n",
       "          0.18708318,  0.1753785 ,  0.10881206,  0.18652529, -0.22691664],\n",
       "        [ 0.04114315, -0.18978484, -0.23355626,  0.24467519,  0.1879502 ,\n",
       "          0.02075186, -0.20004234,  0.13720286,  0.18706948,  0.13929045],\n",
       "        [ 0.2052514 , -0.09080999,  0.1582968 , -0.23231538,  0.14441097,\n",
       "          0.10719839,  0.11369124,  0.06253976, -0.1083039 , -0.07656936],\n",
       "        [ 0.02606004,  0.02794009,  0.25202516, -0.13549864, -0.22459176,\n",
       "         -0.08399725, -0.01662788,  0.06178543,  0.00403979, -0.22542763],\n",
       "        [-0.19924024, -0.02302375,  0.00861993,  0.17107075, -0.10400361,\n",
       "         -0.01344997,  0.23877147,  0.19781688,  0.13035929,  0.05169305],\n",
       "        [ 0.03037688,  0.11644307, -0.00990358, -0.00093117,  0.24350587,\n",
       "          0.12162089,  0.12035203, -0.09427069, -0.1198238 , -0.22451457],\n",
       "        [-0.05615383,  0.09083828,  0.15592083,  0.24400327, -0.07397477,\n",
       "         -0.17226925,  0.17383748, -0.08143286,  0.21800533,  0.14204165],\n",
       "        [ 0.1346708 , -0.1270918 ,  0.05133522,  0.00639454, -0.21272638,\n",
       "          0.17247754,  0.04233867, -0.07719693, -0.2716812 , -0.12416144],\n",
       "        [-0.07274979,  0.08467728,  0.16584179, -0.00495821,  0.16842118,\n",
       "         -0.26648027,  0.12586764,  0.04578915,  0.12296775,  0.16337782],\n",
       "        [-0.03213894, -0.11711013,  0.12781489, -0.07448299,  0.15201122,\n",
       "         -0.272844  , -0.14614676, -0.20036379, -0.22001666, -0.2201652 ],\n",
       "        [ 0.23029664, -0.266788  , -0.12998666,  0.14129704,  0.16623425,\n",
       "         -0.04910837, -0.17107958,  0.28463742,  0.05872777,  0.10029253],\n",
       "        [ 0.21044537,  0.13884374, -0.18751776,  0.27878407,  0.10168046,\n",
       "          0.28138015,  0.09078106,  0.12761164,  0.0419955 ,  0.11753398],\n",
       "        [-0.12956527,  0.08578578, -0.02686682,  0.2272192 ,  0.21426699,\n",
       "         -0.21576124,  0.13577068,  0.27522084,  0.26812848,  0.16785797]],\n",
       "       dtype=float32)>,\n",
       " <tf.Variable 'dense_3/bias:0' shape=(10,) dtype=float32, numpy=array([0., 0., 0., 0., 0., 0., 0., 0., 0., 0.], dtype=float32)>]"
      ]
     },
     "execution_count": 3,
     "metadata": {},
     "output_type": "execute_result"
    }
   ],
   "source": [
    "model.build(input_shape=(None, 3))\n",
    "model.weights"
   ]
  },
  {
   "cell_type": "markdown",
   "metadata": {
    "colab_type": "text"
   },
   "source": [
    "**The summary method**"
   ]
  },
  {
   "cell_type": "code",
   "execution_count": 4,
   "metadata": {
    "colab_type": "code"
   },
   "outputs": [
    {
     "name": "stdout",
     "output_type": "stream",
     "text": [
      "Model: \"sequential_1\"\n",
      "_________________________________________________________________\n",
      " Layer (type)                Output Shape              Param #   \n",
      "=================================================================\n",
      " dense_2 (Dense)             (None, 64)                256       \n",
      "                                                                 \n",
      " dense_3 (Dense)             (None, 10)                650       \n",
      "                                                                 \n",
      "=================================================================\n",
      "Total params: 906\n",
      "Trainable params: 906\n",
      "Non-trainable params: 0\n",
      "_________________________________________________________________\n"
     ]
    }
   ],
   "source": [
    "model.summary()"
   ]
  },
  {
   "cell_type": "markdown",
   "metadata": {
    "colab_type": "text"
   },
   "source": [
    "**Naming models and layers with the `name` argument**"
   ]
  },
  {
   "cell_type": "code",
   "execution_count": 5,
   "metadata": {
    "colab_type": "code"
   },
   "outputs": [
    {
     "name": "stdout",
     "output_type": "stream",
     "text": [
      "Model: \"my_example_model\"\n",
      "_________________________________________________________________\n",
      " Layer (type)                Output Shape              Param #   \n",
      "=================================================================\n",
      " my_first_layer (Dense)      (None, 64)                256       \n",
      "                                                                 \n",
      " my_last_layer (Dense)       (None, 10)                650       \n",
      "                                                                 \n",
      "=================================================================\n",
      "Total params: 906\n",
      "Trainable params: 906\n",
      "Non-trainable params: 0\n",
      "_________________________________________________________________\n"
     ]
    }
   ],
   "source": [
    "model = keras.Sequential(name=\"my_example_model\")\n",
    "model.add(layers.Dense(64, activation=\"relu\", name=\"my_first_layer\"))\n",
    "model.add(layers.Dense(10, activation=\"softmax\", name=\"my_last_layer\"))\n",
    "model.build((None, 3))\n",
    "model.summary()"
   ]
  },
  {
   "cell_type": "markdown",
   "metadata": {
    "colab_type": "text"
   },
   "source": [
    "**Specifying the input shape of your model in advance**"
   ]
  },
  {
   "cell_type": "code",
   "execution_count": 6,
   "metadata": {
    "colab_type": "code"
   },
   "outputs": [],
   "source": [
    "model = keras.Sequential()\n",
    "model.add(keras.Input(shape=(3,)))\n",
    "model.add(layers.Dense(64, activation=\"relu\"))"
   ]
  },
  {
   "cell_type": "code",
   "execution_count": 7,
   "metadata": {
    "colab_type": "code"
   },
   "outputs": [
    {
     "name": "stdout",
     "output_type": "stream",
     "text": [
      "Model: \"sequential_2\"\n",
      "_________________________________________________________________\n",
      " Layer (type)                Output Shape              Param #   \n",
      "=================================================================\n",
      " dense_4 (Dense)             (None, 64)                256       \n",
      "                                                                 \n",
      "=================================================================\n",
      "Total params: 256\n",
      "Trainable params: 256\n",
      "Non-trainable params: 0\n",
      "_________________________________________________________________\n"
     ]
    }
   ],
   "source": [
    "model.summary()"
   ]
  },
  {
   "cell_type": "code",
   "execution_count": 8,
   "metadata": {
    "colab_type": "code"
   },
   "outputs": [
    {
     "name": "stdout",
     "output_type": "stream",
     "text": [
      "Model: \"sequential_2\"\n",
      "_________________________________________________________________\n",
      " Layer (type)                Output Shape              Param #   \n",
      "=================================================================\n",
      " dense_4 (Dense)             (None, 64)                256       \n",
      "                                                                 \n",
      " dense_5 (Dense)             (None, 10)                650       \n",
      "                                                                 \n",
      "=================================================================\n",
      "Total params: 906\n",
      "Trainable params: 906\n",
      "Non-trainable params: 0\n",
      "_________________________________________________________________\n"
     ]
    }
   ],
   "source": [
    "model.add(layers.Dense(10, activation=\"softmax\"))\n",
    "model.summary()"
   ]
  },
  {
   "cell_type": "markdown",
   "metadata": {
    "colab_type": "text"
   },
   "source": [
    "### The Functional API"
   ]
  },
  {
   "cell_type": "markdown",
   "metadata": {
    "colab_type": "text"
   },
   "source": [
    "#### A simple example"
   ]
  },
  {
   "cell_type": "markdown",
   "metadata": {
    "colab_type": "text"
   },
   "source": [
    "**A simple Functional model with two `Dense` layers**"
   ]
  },
  {
   "cell_type": "code",
   "execution_count": 9,
   "metadata": {
    "colab_type": "code"
   },
   "outputs": [],
   "source": [
    "inputs = keras.Input(shape=(3,), name=\"my_input\")\n",
    "features = layers.Dense(64, activation=\"relu\")(inputs)\n",
    "outputs = layers.Dense(10, activation=\"softmax\")(features)\n",
    "model = keras.Model(inputs=inputs, outputs=outputs)"
   ]
  },
  {
   "cell_type": "code",
   "execution_count": 10,
   "metadata": {
    "colab_type": "code"
   },
   "outputs": [],
   "source": [
    "inputs = keras.Input(shape=(3,), name=\"my_input\")"
   ]
  },
  {
   "cell_type": "code",
   "execution_count": 11,
   "metadata": {
    "colab_type": "code"
   },
   "outputs": [
    {
     "data": {
      "text/plain": [
       "TensorShape([None, 3])"
      ]
     },
     "execution_count": 11,
     "metadata": {},
     "output_type": "execute_result"
    }
   ],
   "source": [
    "inputs.shape"
   ]
  },
  {
   "cell_type": "code",
   "execution_count": 12,
   "metadata": {
    "colab_type": "code"
   },
   "outputs": [
    {
     "data": {
      "text/plain": [
       "tf.float32"
      ]
     },
     "execution_count": 12,
     "metadata": {},
     "output_type": "execute_result"
    }
   ],
   "source": [
    "inputs.dtype"
   ]
  },
  {
   "cell_type": "code",
   "execution_count": 13,
   "metadata": {
    "colab_type": "code"
   },
   "outputs": [],
   "source": [
    "features = layers.Dense(64, activation=\"relu\")(inputs)"
   ]
  },
  {
   "cell_type": "code",
   "execution_count": 14,
   "metadata": {
    "colab_type": "code"
   },
   "outputs": [
    {
     "data": {
      "text/plain": [
       "TensorShape([None, 64])"
      ]
     },
     "execution_count": 14,
     "metadata": {},
     "output_type": "execute_result"
    }
   ],
   "source": [
    "features.shape"
   ]
  },
  {
   "cell_type": "code",
   "execution_count": 15,
   "metadata": {
    "colab_type": "code"
   },
   "outputs": [],
   "source": [
    "outputs = layers.Dense(10, activation=\"softmax\")(features)\n",
    "model = keras.Model(inputs=inputs, outputs=outputs)"
   ]
  },
  {
   "cell_type": "code",
   "execution_count": 16,
   "metadata": {
    "colab_type": "code"
   },
   "outputs": [
    {
     "name": "stdout",
     "output_type": "stream",
     "text": [
      "Model: \"model_1\"\n",
      "_________________________________________________________________\n",
      " Layer (type)                Output Shape              Param #   \n",
      "=================================================================\n",
      " my_input (InputLayer)       [(None, 3)]               0         \n",
      "                                                                 \n",
      " dense_8 (Dense)             (None, 64)                256       \n",
      "                                                                 \n",
      " dense_9 (Dense)             (None, 10)                650       \n",
      "                                                                 \n",
      "=================================================================\n",
      "Total params: 906\n",
      "Trainable params: 906\n",
      "Non-trainable params: 0\n",
      "_________________________________________________________________\n"
     ]
    }
   ],
   "source": [
    "model.summary()"
   ]
  },
  {
   "cell_type": "markdown",
   "metadata": {
    "colab_type": "text"
   },
   "source": [
    "#### Multi-input, multi-output models"
   ]
  },
  {
   "cell_type": "markdown",
   "metadata": {
    "colab_type": "text"
   },
   "source": [
    "**A multi-input, multi-output Functional model**"
   ]
  },
  {
   "cell_type": "code",
   "execution_count": 17,
   "metadata": {
    "colab_type": "code"
   },
   "outputs": [],
   "source": [
    "vocabulary_size = 10000\n",
    "num_tags = 100\n",
    "num_departments = 4\n",
    "\n",
    "title = keras.Input(shape=(vocabulary_size,), name=\"title\")\n",
    "text_body = keras.Input(shape=(vocabulary_size,), name=\"text_body\")\n",
    "tags = keras.Input(shape=(num_tags,), name=\"tags\")\n",
    "\n",
    "features = layers.Concatenate()([title, text_body, tags])\n",
    "features = layers.Dense(64, activation=\"relu\")(features)\n",
    "\n",
    "priority = layers.Dense(1, activation=\"sigmoid\", name=\"priority\")(features)\n",
    "department = layers.Dense(\n",
    "    num_departments, activation=\"softmax\", name=\"department\")(features)\n",
    "\n",
    "model = keras.Model(inputs=[title, text_body, tags], outputs=[priority, department])"
   ]
  },
  {
   "cell_type": "markdown",
   "metadata": {
    "colab_type": "text"
   },
   "source": [
    "#### Training a multi-input, multi-output model"
   ]
  },
  {
   "cell_type": "markdown",
   "metadata": {
    "colab_type": "text"
   },
   "source": [
    "**Training a model by providing lists of input & target arrays**"
   ]
  },
  {
   "cell_type": "code",
   "execution_count": 18,
   "metadata": {
    "colab_type": "code"
   },
   "outputs": [
    {
     "name": "stdout",
     "output_type": "stream",
     "text": [
      "40/40 [==============================] - 1s 7ms/step - loss: 24.5413 - priority_loss: 0.3419 - department_loss: 24.1993 - priority_mean_absolute_error: 0.5079 - department_accuracy: 0.2141\n",
      "40/40 [==============================] - 0s 3ms/step - loss: 35.6729 - priority_loss: 0.3511 - department_loss: 35.3219 - priority_mean_absolute_error: 0.5169 - department_accuracy: 0.0586\n",
      "40/40 [==============================] - 0s 2ms/step\n"
     ]
    }
   ],
   "source": [
    "import numpy as np\n",
    "\n",
    "num_samples = 1280\n",
    "\n",
    "title_data = np.random.randint(0, 2, size=(num_samples, vocabulary_size))\n",
    "text_body_data = np.random.randint(0, 2, size=(num_samples, vocabulary_size))\n",
    "tags_data = np.random.randint(0, 2, size=(num_samples, num_tags))\n",
    "\n",
    "priority_data = np.random.random(size=(num_samples, 1))\n",
    "department_data = np.random.randint(0, 2, size=(num_samples, num_departments))\n",
    "\n",
    "model.compile(optimizer=\"rmsprop\",\n",
    "              loss=[\"mean_squared_error\", \"categorical_crossentropy\"],\n",
    "              metrics=[[\"mean_absolute_error\"], [\"accuracy\"]])\n",
    "model.fit([title_data, text_body_data, tags_data],\n",
    "          [priority_data, department_data],\n",
    "          epochs=1)\n",
    "model.evaluate([title_data, text_body_data, tags_data],\n",
    "               [priority_data, department_data])\n",
    "priority_preds, department_preds = model.predict([title_data, text_body_data, tags_data])"
   ]
  },
  {
   "cell_type": "markdown",
   "metadata": {
    "colab_type": "text"
   },
   "source": [
    "**Training a model by providing dicts of input & target arrays**"
   ]
  },
  {
   "cell_type": "code",
   "execution_count": 19,
   "metadata": {
    "colab_type": "code"
   },
   "outputs": [
    {
     "name": "stdout",
     "output_type": "stream",
     "text": [
      "40/40 [==============================] - 1s 7ms/step - loss: 28.5154 - priority_loss: 0.3511 - department_loss: 28.1644 - priority_mean_absolute_error: 0.5169 - department_accuracy: 0.2734\n",
      "40/40 [==============================] - 0s 3ms/step - loss: 40.2338 - priority_loss: 0.3511 - department_loss: 39.8827 - priority_mean_absolute_error: 0.5169 - department_accuracy: 0.0586\n",
      "40/40 [==============================] - 0s 2ms/step\n"
     ]
    }
   ],
   "source": [
    "model.compile(optimizer=\"rmsprop\",\n",
    "              loss={\"priority\": \"mean_squared_error\", \"department\": \"categorical_crossentropy\"},\n",
    "              metrics={\"priority\": [\"mean_absolute_error\"], \"department\": [\"accuracy\"]})\n",
    "model.fit({\"title\": title_data, \"text_body\": text_body_data, \"tags\": tags_data},\n",
    "          {\"priority\": priority_data, \"department\": department_data},\n",
    "          epochs=1)\n",
    "model.evaluate({\"title\": title_data, \"text_body\": text_body_data, \"tags\": tags_data},\n",
    "               {\"priority\": priority_data, \"department\": department_data})\n",
    "priority_preds, department_preds = model.predict(\n",
    "    {\"title\": title_data, \"text_body\": text_body_data, \"tags\": tags_data})"
   ]
  },
  {
   "cell_type": "markdown",
   "metadata": {
    "colab_type": "text"
   },
   "source": [
    "#### The power of the Functional API: Access to layer connectivity"
   ]
  },
  {
   "cell_type": "code",
   "execution_count": 20,
   "metadata": {
    "colab_type": "code"
   },
   "outputs": [
    {
     "data": {
      "image/png": "[encoded data removed]",
      "text/plain": [
       "<IPython.core.display.Image object>"
      ]
     },
     "execution_count": 20,
     "metadata": {},
     "output_type": "execute_result"
    }
   ],
   "source": [
    "keras.utils.plot_model(model, \"ticket_classifier.png\")"
   ]
  },
  {
   "cell_type": "code",
   "execution_count": 21,
   "metadata": {
    "colab_type": "code"
   },
   "outputs": [
    {
     "data": {
      "image/png": "[encoded data removed]",
      "text/plain": [
       "<IPython.core.display.Image object>"
      ]
     },
     "execution_count": 21,
     "metadata": {},
     "output_type": "execute_result"
    }
   ],
   "source": [
    "keras.utils.plot_model(model, \"ticket_classifier_with_shape_info.png\", show_shapes=True)"
   ]
  },
  {
   "cell_type": "markdown",
   "metadata": {
    "colab_type": "text"
   },
   "source": [
    "**Retrieving the inputs or outputs of a layer in a Functional model**"
   ]
  },
  {
   "cell_type": "code",
   "execution_count": 22,
   "metadata": {
    "colab_type": "code"
   },
   "outputs": [
    {
     "data": {
      "text/plain": [
       "[<keras.engine.input_layer.InputLayer at 0x23972a2d4c0>,\n",
       " <keras.engine.input_layer.InputLayer at 0x23972a2d520>,\n",
       " <keras.engine.input_layer.InputLayer at 0x23972a2d790>,\n",
       " <keras.layers.merging.concatenate.Concatenate at 0x23972a33430>,\n",
       " <keras.layers.core.dense.Dense at 0x23972a33970>,\n",
       " <keras.layers.core.dense.Dense at 0x2396b5be8b0>,\n",
       " <keras.layers.core.dense.Dense at 0x23972a4a700>]"
      ]
     },
     "execution_count": 22,
     "metadata": {},
     "output_type": "execute_result"
    }
   ],
   "source": [
    "model.layers"
   ]
  },
  {
   "cell_type": "code",
   "execution_count": 23,
   "metadata": {
    "colab_type": "code"
   },
   "outputs": [
    {
     "data": {
      "text/plain": [
       "[<KerasTensor: shape=(None, 10000) dtype=float32 (created by layer 'title')>,\n",
       " <KerasTensor: shape=(None, 10000) dtype=float32 (created by layer 'text_body')>,\n",
       " <KerasTensor: shape=(None, 100) dtype=float32 (created by layer 'tags')>]"
      ]
     },
     "execution_count": 23,
     "metadata": {},
     "output_type": "execute_result"
    }
   ],
   "source": [
    "model.layers[3].input"
   ]
  },
  {
   "cell_type": "code",
   "execution_count": 24,
   "metadata": {
    "colab_type": "code"
   },
   "outputs": [
    {
     "data": {
      "text/plain": [
       "<KerasTensor: shape=(None, 20100) dtype=float32 (created by layer 'concatenate')>"
      ]
     },
     "execution_count": 24,
     "metadata": {},
     "output_type": "execute_result"
    }
   ],
   "source": [
    "model.layers[3].output"
   ]
  },
  {
   "cell_type": "markdown",
   "metadata": {
    "colab_type": "text"
   },
   "source": [
    "**Creating a new model by reusing intermediate layer outputs**"
   ]
  },
  {
   "cell_type": "code",
   "execution_count": 25,
   "metadata": {
    "colab_type": "code"
   },
   "outputs": [],
   "source": [
    "features = model.layers[4].output\n",
    "difficulty = layers.Dense(3, activation=\"softmax\", name=\"difficulty\")(features)\n",
    "\n",
    "new_model = keras.Model(\n",
    "    inputs=[title, text_body, tags],\n",
    "    outputs=[priority, department, difficulty])"
   ]
  },
  {
   "cell_type": "code",
   "execution_count": 26,
   "metadata": {
    "colab_type": "code"
   },
   "outputs": [
    {
     "data": {
      "image/png": "[encoded data removed]",
      "text/plain": [
       "<IPython.core.display.Image object>"
      ]
     },
     "execution_count": 26,
     "metadata": {},
     "output_type": "execute_result"
    }
   ],
   "source": [
    "keras.utils.plot_model(new_model, \"updated_ticket_classifier.png\", show_shapes=True)"
   ]
  },
  {
   "cell_type": "markdown",
   "metadata": {
    "colab_type": "text"
   },
   "source": [
    "### Subclassing the Model class"
   ]
  },
  {
   "cell_type": "markdown",
   "metadata": {
    "colab_type": "text"
   },
   "source": [
    "#### Rewriting our previous example as a subclassed model"
   ]
  },
  {
   "cell_type": "markdown",
   "metadata": {
    "colab_type": "text"
   },
   "source": [
    "**A simple subclassed model**"
   ]
  },
  {
   "cell_type": "code",
   "execution_count": 27,
   "metadata": {
    "colab_type": "code"
   },
   "outputs": [],
   "source": [
    "class CustomerTicketModel(keras.Model):\n",
    "\n",
    "    def __init__(self, num_departments):\n",
    "        super().__init__()\n",
    "        self.concat_layer = layers.Concatenate()\n",
    "        self.mixing_layer = layers.Dense(64, activation=\"relu\")\n",
    "        self.priority_scorer = layers.Dense(1, activation=\"sigmoid\")\n",
    "        self.department_classifier = layers.Dense(\n",
    "            num_departments, activation=\"softmax\")\n",
    "\n",
    "    def call(self, inputs):\n",
    "        title = inputs[\"title\"]\n",
    "        text_body = inputs[\"text_body\"]\n",
    "        tags = inputs[\"tags\"]\n",
    "\n",
    "        features = self.concat_layer([title, text_body, tags])\n",
    "        features = self.mixing_layer(features)\n",
    "        priority = self.priority_scorer(features)\n",
    "        department = self.department_classifier(features)\n",
    "        return priority, department"
   ]
  },
  {
   "cell_type": "code",
   "execution_count": 28,
   "metadata": {
    "colab_type": "code"
   },
   "outputs": [],
   "source": [
    "model = CustomerTicketModel(num_departments=4)\n",
    "\n",
    "priority, department = model(\n",
    "    {\"title\": title_data, \"text_body\": text_body_data, \"tags\": tags_data})"
   ]
  },
  {
   "cell_type": "code",
   "execution_count": 29,
   "metadata": {
    "colab_type": "code"
   },
   "outputs": [
    {
     "name": "stdout",
     "output_type": "stream",
     "text": [
      "40/40 [==============================] - 1s 8ms/step - loss: 32.9043 - output_1_loss: 0.3127 - output_2_loss: 32.5916 - output_1_mean_absolute_error: 0.4789 - output_2_accuracy: 0.3445\n",
      "40/40 [==============================] - 0s 2ms/step - loss: 8.5180 - output_1_loss: 0.3511 - output_2_loss: 8.1669 - output_1_mean_absolute_error: 0.5169 - output_2_accuracy: 0.0586\n",
      "40/40 [==============================] - 0s 2ms/step\n"
     ]
    }
   ],
   "source": [
    "model.compile(optimizer=\"rmsprop\",\n",
    "              loss=[\"mean_squared_error\", \"categorical_crossentropy\"],\n",
    "              metrics=[[\"mean_absolute_error\"], [\"accuracy\"]])\n",
    "model.fit({\"title\": title_data,\n",
    "           \"text_body\": text_body_data,\n",
    "           \"tags\": tags_data},\n",
    "          [priority_data, department_data],\n",
    "          epochs=1)\n",
    "model.evaluate({\"title\": title_data,\n",
    "                \"text_body\": text_body_data,\n",
    "                \"tags\": tags_data},\n",
    "               [priority_data, department_data])\n",
    "priority_preds, department_preds = model.predict({\"title\": title_data,\n",
    "                                                  \"text_body\": text_body_data,\n",
    "                                                  \"tags\": tags_data})"
   ]
  },
  {
   "cell_type": "markdown",
   "metadata": {
    "colab_type": "text"
   },
   "source": [
    "#### Beware: What subclassed models don't support"
   ]
  },
  {
   "cell_type": "markdown",
   "metadata": {
    "colab_type": "text"
   },
   "source": [
    "### Mixing and matching different components"
   ]
  },
  {
   "cell_type": "markdown",
   "metadata": {
    "colab_type": "text"
   },
   "source": [
    "**Creating a Functional model that includes a subclassed model**"
   ]
  },
  {
   "cell_type": "code",
   "execution_count": 30,
   "metadata": {
    "colab_type": "code"
   },
   "outputs": [],
   "source": [
    "class Classifier(keras.Model):\n",
    "\n",
    "    def __init__(self, num_classes=2):\n",
    "        super().__init__()\n",
    "        if num_classes == 2:\n",
    "            num_units = 1\n",
    "            activation = \"sigmoid\"\n",
    "        else:\n",
    "            num_units = num_classes\n",
    "            activation = \"softmax\"\n",
    "        self.dense = layers.Dense(num_units, activation=activation)\n",
    "\n",
    "    def call(self, inputs):\n",
    "        return self.dense(inputs)\n",
    "\n",
    "inputs = keras.Input(shape=(3,))\n",
    "features = layers.Dense(64, activation=\"relu\")(inputs)\n",
    "outputs = Classifier(num_classes=10)(features)\n",
    "model = keras.Model(inputs=inputs, outputs=outputs)"
   ]
  },
  {
   "cell_type": "markdown",
   "metadata": {
    "colab_type": "text"
   },
   "source": [
    "**Creating a subclassed model that includes a Functional model**"
   ]
  },
  {
   "cell_type": "code",
   "execution_count": 31,
   "metadata": {
    "colab_type": "code"
   },
   "outputs": [],
   "source": [
    "inputs = keras.Input(shape=(64,))\n",
    "outputs = layers.Dense(1, activation=\"sigmoid\")(inputs)\n",
    "binary_classifier = keras.Model(inputs=inputs, outputs=outputs)\n",
    "\n",
    "class MyModel(keras.Model):\n",
    "\n",
    "    def __init__(self, num_classes=2):\n",
    "        super().__init__()\n",
    "        self.dense = layers.Dense(64, activation=\"relu\")\n",
    "        self.classifier = binary_classifier\n",
    "\n",
    "    def call(self, inputs):\n",
    "        features = self.dense(inputs)\n",
    "        return self.classifier(features)\n",
    "\n",
    "model = MyModel()"
   ]
  },
  {
   "cell_type": "markdown",
   "metadata": {
    "colab_type": "text"
   },
   "source": [
    "### Remember: Use the right tool for the job"
   ]
  },
  {
   "cell_type": "markdown",
   "metadata": {
    "colab_type": "text"
   },
   "source": [
    "## Using built-in training and evaluation loops"
   ]
  },
  {
   "cell_type": "markdown",
   "metadata": {
    "colab_type": "text"
   },
   "source": [
    "**The standard workflow: `compile()`, `fit()`, `evaluate()`, `predict()`**"
   ]
  },
  {
   "cell_type": "code",
   "execution_count": 32,
   "metadata": {
    "colab_type": "code"
   },
   "outputs": [
    {
     "name": "stdout",
     "output_type": "stream",
     "text": [
      "Epoch 1/3\n",
      "1563/1563 [==============================] - 7s 4ms/step - loss: 0.2971 - accuracy: 0.9133 - val_loss: 0.1571 - val_accuracy: 0.9530\n",
      "Epoch 2/3\n",
      "1563/1563 [==============================] - 7s 5ms/step - loss: 0.1648 - accuracy: 0.9547 - val_loss: 0.1267 - val_accuracy: 0.9670\n",
      "Epoch 3/3\n",
      "1563/1563 [==============================] - 7s 5ms/step - loss: 0.1391 - accuracy: 0.9626 - val_loss: 0.1255 - val_accuracy: 0.9687\n",
      "313/313 [==============================] - 0s 1ms/step - loss: 0.1095 - accuracy: 0.9712\n",
      "313/313 [==============================] - 0s 1ms/step\n"
     ]
    }
   ],
   "source": [
    "from tensorflow.keras.datasets import mnist\n",
    "\n",
    "def get_mnist_model():\n",
    "    inputs = keras.Input(shape=(28 * 28,))\n",
    "    features = layers.Dense(512, activation=\"relu\")(inputs)\n",
    "    features = layers.Dropout(0.5)(features)\n",
    "    outputs = layers.Dense(10, activation=\"softmax\")(features)\n",
    "    model = keras.Model(inputs, outputs)\n",
    "    return model\n",
    "\n",
    "(images, labels), (test_images, test_labels) = mnist.load_data()\n",
    "images = images.reshape((60000, 28 * 28)).astype(\"float32\") / 255\n",
    "test_images = test_images.reshape((10000, 28 * 28)).astype(\"float32\") / 255\n",
    "train_images, val_images = images[10000:], images[:10000]\n",
    "train_labels, val_labels = labels[10000:], labels[:10000]\n",
    "\n",
    "model = get_mnist_model()\n",
    "model.compile(optimizer=\"rmsprop\",\n",
    "              loss=\"sparse_categorical_crossentropy\",\n",
    "              metrics=[\"accuracy\"])\n",
    "model.fit(train_images, train_labels,\n",
    "          epochs=3,\n",
    "          validation_data=(val_images, val_labels))\n",
    "test_metrics = model.evaluate(test_images, test_labels)\n",
    "predictions = model.predict(test_images)"
   ]
  },
  {
   "cell_type": "markdown",
   "metadata": {
    "colab_type": "text"
   },
   "source": [
    "### Writing your own metrics"
   ]
  },
  {
   "cell_type": "markdown",
   "metadata": {
    "colab_type": "text"
   },
   "source": [
    "**Implementing a custom metric by subclassing the `Metric` class**"
   ]
  },
  {
   "cell_type": "code",
   "execution_count": 33,
   "metadata": {
    "colab_type": "code"
   },
   "outputs": [],
   "source": [
    "import tensorflow as tf\n",
    "\n",
    "class RootMeanSquaredError(keras.metrics.Metric):\n",
    "\n",
    "    def __init__(self, name=\"rmse\", **kwargs):\n",
    "        super().__init__(name=name, **kwargs)\n",
    "        self.mse_sum = self.add_weight(name=\"mse_sum\", initializer=\"zeros\")\n",
    "        self.total_samples = self.add_weight(\n",
    "            name=\"total_samples\", initializer=\"zeros\", dtype=\"int32\")\n",
    "\n",
    "    def update_state(self, y_true, y_pred, sample_weight=None):\n",
    "        y_true = tf.one_hot(y_true, depth=tf.shape(y_pred)[1])\n",
    "        mse = tf.reduce_sum(tf.square(y_true - y_pred))\n",
    "        self.mse_sum.assign_add(mse)\n",
    "        num_samples = tf.shape(y_pred)[0]\n",
    "        self.total_samples.assign_add(num_samples)\n",
    "\n",
    "    def result(self):\n",
    "        return tf.sqrt(self.mse_sum / tf.cast(self.total_samples, tf.float32))\n",
    "\n",
    "    def reset_state(self):\n",
    "        self.mse_sum.assign(0.)\n",
    "        self.total_samples.assign(0)"
   ]
  },
  {
   "cell_type": "code",
   "execution_count": 34,
   "metadata": {
    "colab_type": "code"
   },
   "outputs": [
    {
     "name": "stdout",
     "output_type": "stream",
     "text": [
      "Epoch 1/3\n",
      "1563/1563 [==============================] - 8s 5ms/step - loss: 0.2911 - accuracy: 0.9127 - rmse: 7.1842 - val_loss: 0.1457 - val_accuracy: 0.9588 - val_rmse: 7.3478\n",
      "Epoch 2/3\n",
      "1563/1563 [==============================] - 7s 4ms/step - loss: 0.1634 - accuracy: 0.9547 - rmse: 7.3569 - val_loss: 0.1275 - val_accuracy: 0.9644 - val_rmse: 7.4042\n",
      "Epoch 3/3\n",
      "1563/1563 [==============================] - 7s 4ms/step - loss: 0.1407 - accuracy: 0.9629 - rmse: 7.3916 - val_loss: 0.1167 - val_accuracy: 0.9716 - val_rmse: 7.4202\n",
      "313/313 [==============================] - 0s 1ms/step - loss: 0.1031 - accuracy: 0.9732 - rmse: 7.4339\n"
     ]
    }
   ],
   "source": [
    "model = get_mnist_model()\n",
    "model.compile(optimizer=\"rmsprop\",\n",
    "              loss=\"sparse_categorical_crossentropy\",\n",
    "              metrics=[\"accuracy\", RootMeanSquaredError()])\n",
    "model.fit(train_images, train_labels,\n",
    "          epochs=3,\n",
    "          validation_data=(val_images, val_labels))\n",
    "test_metrics = model.evaluate(test_images, test_labels)"
   ]
  },
  {
   "cell_type": "markdown",
   "metadata": {
    "colab_type": "text"
   },
   "source": [
    "### Using callbacks"
   ]
  },
  {
   "cell_type": "markdown",
   "metadata": {
    "colab_type": "text"
   },
   "source": [
    "#### The EarlyStopping and ModelCheckpoint callbacks"
   ]
  },
  {
   "cell_type": "markdown",
   "metadata": {
    "colab_type": "text"
   },
   "source": [
    "**Using the `callbacks` argument in the `fit()` method**"
   ]
  },
  {
   "cell_type": "code",
   "execution_count": 35,
   "metadata": {
    "colab_type": "code"
   },
   "outputs": [
    {
     "name": "stdout",
     "output_type": "stream",
     "text": [
      "Epoch 1/10\n",
      "1553/1563 [============================>.] - ETA: 0s - loss: 0.2981 - accuracy: 0.9116WARNING:tensorflow:HDF5 format does not save weights of `optimizer_experimental.Optimizer`, your optimizer will be recompiled at loading time.\n",
      "1563/1563 [==============================] - 8s 5ms/step - loss: 0.2972 - accuracy: 0.9119 - val_loss: 0.1473 - val_accuracy: 0.9590\n",
      "Epoch 2/10\n",
      "1560/1563 [============================>.] - ETA: 0s - loss: 0.1646 - accuracy: 0.9541WARNING:tensorflow:HDF5 format does not save weights of `optimizer_experimental.Optimizer`, your optimizer will be recompiled at loading time.\n",
      "1563/1563 [==============================] - 7s 4ms/step - loss: 0.1645 - accuracy: 0.9542 - val_loss: 0.1294 - val_accuracy: 0.9663\n",
      "Epoch 3/10\n",
      "1560/1563 [============================>.] - ETA: 0s - loss: 0.1403 - accuracy: 0.9621WARNING:tensorflow:HDF5 format does not save weights of `optimizer_experimental.Optimizer`, your optimizer will be recompiled at loading time.\n",
      "1563/1563 [==============================] - 7s 4ms/step - loss: 0.1402 - accuracy: 0.9620 - val_loss: 0.1145 - val_accuracy: 0.9716\n",
      "Epoch 4/10\n",
      "1563/1563 [==============================] - ETA: 0s - loss: 0.1244 - accuracy: 0.9677WARNING:tensorflow:HDF5 format does not save weights of `optimizer_experimental.Optimizer`, your optimizer will be recompiled at loading time.\n",
      "1563/1563 [==============================] - 7s 4ms/step - loss: 0.1244 - accuracy: 0.9677 - val_loss: 0.1130 - val_accuracy: 0.9730\n",
      "Epoch 5/10\n",
      "1561/1563 [============================>.] - ETA: 0s - loss: 0.1195 - accuracy: 0.9699WARNING:tensorflow:HDF5 format does not save weights of `optimizer_experimental.Optimizer`, your optimizer will be recompiled at loading time.\n",
      "1563/1563 [==============================] - 7s 4ms/step - loss: 0.1194 - accuracy: 0.9699 - val_loss: 0.1109 - val_accuracy: 0.9748\n",
      "Epoch 6/10\n",
      "1563/1563 [==============================] - 7s 4ms/step - loss: 0.1114 - accuracy: 0.9728 - val_loss: 0.1113 - val_accuracy: 0.9759\n",
      "Epoch 7/10\n",
      "1555/1563 [============================>.] - ETA: 0s - loss: 0.1040 - accuracy: 0.9743WARNING:tensorflow:HDF5 format does not save weights of `optimizer_experimental.Optimizer`, your optimizer will be recompiled at loading time.\n",
      "1563/1563 [==============================] - 7s 4ms/step - loss: 0.1049 - accuracy: 0.9743 - val_loss: 0.1053 - val_accuracy: 0.9778\n",
      "Epoch 8/10\n",
      "1563/1563 [==============================] - 7s 4ms/step - loss: 0.1010 - accuracy: 0.9771 - val_loss: 0.1118 - val_accuracy: 0.9767\n",
      "Epoch 9/10\n",
      "1563/1563 [==============================] - 7s 4ms/step - loss: 0.0969 - accuracy: 0.9775 - val_loss: 0.1171 - val_accuracy: 0.9780\n",
      "Epoch 10/10\n",
      "1563/1563 [==============================] - 7s 4ms/step - loss: 0.0925 - accuracy: 0.9785 - val_loss: 0.1174 - val_accuracy: 0.9775\n"
     ]
    },
    {
     "data": {
      "text/plain": [
       "<keras.callbacks.History at 0x2396b509310>"
      ]
     },
     "execution_count": 35,
     "metadata": {},
     "output_type": "execute_result"
    }
   ],
   "source": [
    "callbacks_list = [\n",
    "    keras.callbacks.EarlyStopping(\n",
    "        monitor=\"val_accuracy\",\n",
    "        patience=2,\n",
    "    ),\n",
    "    keras.callbacks.ModelCheckpoint(\n",
    "        filepath=\"checkpoint_path.keras\",\n",
    "        monitor=\"val_loss\",\n",
    "        save_best_only=True,\n",
    "    )\n",
    "]\n",
    "model = get_mnist_model()\n",
    "model.compile(optimizer=\"rmsprop\",\n",
    "              loss=\"sparse_categorical_crossentropy\",\n",
    "              metrics=[\"accuracy\"])\n",
    "model.fit(train_images, train_labels,\n",
    "          epochs=10,\n",
    "          callbacks=callbacks_list,\n",
    "          validation_data=(val_images, val_labels))"
   ]
  },
  {
   "cell_type": "code",
   "execution_count": 36,
   "metadata": {
    "colab_type": "code"
   },
   "outputs": [
    {
     "name": "stdout",
     "output_type": "stream",
     "text": [
      "WARNING:tensorflow:Loading model from HDF5 will not restore the optimizer's weights, since the optimizer is an instance of `optimizer_experimental.Optimizer`\n"
     ]
    }
   ],
   "source": [
    "model = keras.models.load_model(\"checkpoint_path.keras\")"
   ]
  },
  {
   "cell_type": "markdown",
   "metadata": {
    "colab_type": "text"
   },
   "source": [
    "### Writing your own callbacks"
   ]
  },
  {
   "cell_type": "markdown",
   "metadata": {
    "colab_type": "text"
   },
   "source": [
    "**Creating a custom callback by subclassing the `Callback` class**"
   ]
  },
  {
   "cell_type": "code",
   "execution_count": 37,
   "metadata": {
    "colab_type": "code"
   },
   "outputs": [],
   "source": [
    "from matplotlib import pyplot as plt\n",
    "\n",
    "class LossHistory(keras.callbacks.Callback):\n",
    "    def on_train_begin(self, logs):\n",
    "        self.per_batch_losses = []\n",
    "\n",
    "    def on_batch_end(self, batch, logs):\n",
    "        self.per_batch_losses.append(logs.get(\"loss\"))\n",
    "\n",
    "    def on_epoch_end(self, epoch, logs):\n",
    "        plt.clf()\n",
    "        plt.plot(range(len(self.per_batch_losses)), self.per_batch_losses,\n",
    "                 label=\"Training loss for each batch\")\n",
    "        plt.xlabel(f\"Batch (epoch {epoch})\")\n",
    "        plt.ylabel(\"Loss\")\n",
    "        plt.legend()\n",
    "        plt.savefig(f\"plot_at_epoch_{epoch}\")\n",
    "        self.per_batch_losses = []"
   ]
  },
  {
   "cell_type": "code",
   "execution_count": 38,
   "metadata": {
    "colab_type": "code"
   },
   "outputs": [
    {
     "name": "stdout",
     "output_type": "stream",
     "text": [
      "Epoch 1/10\n",
      "1563/1563 [==============================] - 8s 5ms/step - loss: 0.2959 - accuracy: 0.9121 - val_loss: 0.1469 - val_accuracy: 0.9569\n",
      "Epoch 2/10\n",
      "1563/1563 [==============================] - 7s 5ms/step - loss: 0.1645 - accuracy: 0.9541 - val_loss: 0.1260 - val_accuracy: 0.9660\n",
      "Epoch 3/10\n",
      "1563/1563 [==============================] - 7s 5ms/step - loss: 0.1383 - accuracy: 0.9626 - val_loss: 0.1143 - val_accuracy: 0.9718\n",
      "Epoch 4/10\n",
      "1563/1563 [==============================] - 7s 5ms/step - loss: 0.1254 - accuracy: 0.9665 - val_loss: 0.1127 - val_accuracy: 0.9737\n",
      "Epoch 5/10\n",
      "1563/1563 [==============================] - 7s 5ms/step - loss: 0.1171 - accuracy: 0.9707 - val_loss: 0.1069 - val_accuracy: 0.9747\n",
      "Epoch 6/10\n",
      "1563/1563 [==============================] - 7s 5ms/step - loss: 0.1114 - accuracy: 0.9727 - val_loss: 0.1129 - val_accuracy: 0.9765\n",
      "Epoch 7/10\n",
      "1563/1563 [==============================] - 7s 5ms/step - loss: 0.1036 - accuracy: 0.9753 - val_loss: 0.1151 - val_accuracy: 0.9772\n",
      "Epoch 8/10\n",
      "1563/1563 [==============================] - 7s 5ms/step - loss: 0.0989 - accuracy: 0.9762 - val_loss: 0.1230 - val_accuracy: 0.9754\n",
      "Epoch 9/10\n",
      "1563/1563 [==============================] - 7s 5ms/step - loss: 0.1005 - accuracy: 0.9767 - val_loss: 0.1177 - val_accuracy: 0.9757\n",
      "Epoch 10/10\n",
      "1563/1563 [==============================] - 7s 5ms/step - loss: 0.0921 - accuracy: 0.9789 - val_loss: 0.1263 - val_accuracy: 0.9766\n"
     ]
    },
    {
     "data": {
      "text/plain": [
       "<keras.callbacks.History at 0x2390073c610>"
      ]
     },
     "execution_count": 38,
     "metadata": {},
     "output_type": "execute_result"
    },
    {
     "data": {
      "image/png": "[encoded data removed]",
      "text/plain": [
       "<Figure size 432x288 with 1 Axes>"
      ]
     },
     "metadata": {
      "needs_background": "light"
     },
     "output_type": "display_data"
    }
   ],
   "source": [
    "model = get_mnist_model()\n",
    "model.compile(optimizer=\"rmsprop\",\n",
    "              loss=\"sparse_categorical_crossentropy\",\n",
    "              metrics=[\"accuracy\"])\n",
    "model.fit(train_images, train_labels,\n",
    "          epochs=10,\n",
    "          callbacks=[LossHistory()],\n",
    "          validation_data=(val_images, val_labels))"
   ]
  },
  {
   "cell_type": "markdown",
   "metadata": {
    "colab_type": "text"
   },
   "source": [
    "### Monitoring and visualization with TensorBoard"
   ]
  },
  {
   "cell_type": "code",
   "execution_count": 39,
   "metadata": {
    "colab_type": "code"
   },
   "outputs": [
    {
     "name": "stdout",
     "output_type": "stream",
     "text": [
      "Epoch 1/10\n",
      "1563/1563 [==============================] - 8s 4ms/step - loss: 0.2970 - accuracy: 0.9132 - val_loss: 0.1620 - val_accuracy: 0.9540\n",
      "Epoch 2/10\n",
      "1563/1563 [==============================] - 7s 4ms/step - loss: 0.1665 - accuracy: 0.9531 - val_loss: 0.1203 - val_accuracy: 0.9668\n",
      "Epoch 3/10\n",
      "1563/1563 [==============================] - 7s 4ms/step - loss: 0.1426 - accuracy: 0.9625 - val_loss: 0.1143 - val_accuracy: 0.9711\n",
      "Epoch 4/10\n",
      "1563/1563 [==============================] - 7s 4ms/step - loss: 0.1286 - accuracy: 0.9664 - val_loss: 0.1093 - val_accuracy: 0.9723\n",
      "Epoch 5/10\n",
      "1563/1563 [==============================] - 8s 5ms/step - loss: 0.1167 - accuracy: 0.9710 - val_loss: 0.1068 - val_accuracy: 0.9768\n",
      "Epoch 6/10\n",
      "1563/1563 [==============================] - 7s 5ms/step - loss: 0.1123 - accuracy: 0.9728 - val_loss: 0.1138 - val_accuracy: 0.9749\n",
      "Epoch 7/10\n",
      "1563/1563 [==============================] - 7s 5ms/step - loss: 0.1065 - accuracy: 0.9748 - val_loss: 0.1120 - val_accuracy: 0.9764\n",
      "Epoch 8/10\n",
      "1563/1563 [==============================] - 7s 4ms/step - loss: 0.1007 - accuracy: 0.9766 - val_loss: 0.1149 - val_accuracy: 0.9779\n",
      "Epoch 9/10\n",
      "1563/1563 [==============================] - 7s 5ms/step - loss: 0.1014 - accuracy: 0.9768 - val_loss: 0.1096 - val_accuracy: 0.9788\n",
      "Epoch 10/10\n",
      "1563/1563 [==============================] - 7s 5ms/step - loss: 0.0940 - accuracy: 0.9786 - val_loss: 0.1163 - val_accuracy: 0.9795\n"
     ]
    },
    {
     "data": {
      "text/plain": [
       "<keras.callbacks.History at 0x23900558280>"
      ]
     },
     "execution_count": 39,
     "metadata": {},
     "output_type": "execute_result"
    }
   ],
   "source": [
    "model = get_mnist_model()\n",
    "model.compile(optimizer=\"rmsprop\",\n",
    "              loss=\"sparse_categorical_crossentropy\",\n",
    "              metrics=[\"accuracy\"])\n",
    "\n",
    "tensorboard = keras.callbacks.TensorBoard(\n",
    "    log_dir=\"/full_path_to_your_log_dir\",\n",
    ")\n",
    "model.fit(train_images, train_labels,\n",
    "          epochs=10,\n",
    "          validation_data=(val_images, val_labels),\n",
    "          callbacks=[tensorboard])"
   ]
  },
  {
   "cell_type": "code",
   "execution_count": 40,
   "metadata": {
    "colab_type": "code"
   },
   "outputs": [
    {
     "data": {
      "text/plain": [
       "ERROR: Failed to launch TensorBoard (exited with 1).\n",
       "Contents of stderr:\n",
       "2022-10-25 13:16:55.243550: W tensorflow/compiler/xla/stream_executor/platform/default/dso_loader.cc:64] Could not load dynamic library 'cudart64_110.dll'; dlerror: cudart64_110.dll not found\n",
       "2022-10-25 13:16:55.243627: I tensorflow/stream_executor/cuda/cudart_stub.cc:29] Ignore above cudart dlerror if you do not have a GPU set up on your machine.\n",
       "2022-10-25 13:16:56.955748: W tensorflow/compiler/xla/stream_executor/platform/default/dso_loader.cc:64] Could not load dynamic library 'cudart64_110.dll'; dlerror: cudart64_110.dll not found\n",
       "2022-10-25 13:16:56.956095: W tensorflow/compiler/xla/stream_executor/platform/default/dso_loader.cc:64] Could not load dynamic library 'cublas64_11.dll'; dlerror: cublas64_11.dll not found\n",
       "2022-10-25 13:16:56.956514: W tensorflow/compiler/xla/stream_executor/platform/default/dso_loader.cc:64] Could not load dynamic library 'cublasLt64_11.dll'; dlerror: cublasLt64_11.dll not found\n",
       "2022-10-25 13:16:56.956801: W tensorflow/compiler/xla/stream_executor/platform/default/dso_loader.cc:64] Could not load dynamic library 'cufft64_10.dll'; dlerror: cufft64_10.dll not found\n",
       "2022-10-25 13:16:56.957073: W tensorflow/compiler/xla/stream_executor/platform/default/dso_loader.cc:64] Could not load dynamic library 'curand64_10.dll'; dlerror: curand64_10.dll not found\n",
       "2022-10-25 13:16:56.957345: W tensorflow/compiler/xla/stream_executor/platform/default/dso_loader.cc:64] Could not load dynamic library 'cusolver64_11.dll'; dlerror: cusolver64_11.dll not found\n",
       "2022-10-25 13:16:56.957636: W tensorflow/compiler/xla/stream_executor/platform/default/dso_loader.cc:64] Could not load dynamic library 'cusparse64_11.dll'; dlerror: cusparse64_11.dll not found\n",
       "2022-10-25 13:16:56.957912: W tensorflow/compiler/xla/stream_executor/platform/default/dso_loader.cc:64] Could not load dynamic library 'cudnn64_8.dll'; dlerror: cudnn64_8.dll not found\n",
       "2022-10-25 13:16:56.957921: W tensorflow/core/common_runtime/gpu/gpu_device.cc:1934] Cannot dlopen some GPU libraries. Please make sure the missing libraries mentioned above are installed properly if you would like to use GPU. Follow the guide at https://www.tensorflow.org/install/gpu for how to download and setup the required libraries for your platform.\n",
       "Skipping registering GPU devices...\n",
       "Traceback (most recent call last):\n",
       "  File \"C:\\Users\\User\\anaconda3\\lib\\runpy.py\", line 197, in _run_module_as_main\n",
       "    return _run_code(code, main_globals, None,\n",
       "  File \"C:\\Users\\User\\anaconda3\\lib\\runpy.py\", line 87, in _run_code\n",
       "    exec(code, run_globals)\n",
       "  File \"C:\\Users\\User\\anaconda3\\Scripts\\tensorboard.exe\\__main__.py\", line 7, in <module>\n",
       "  File \"C:\\Users\\User\\anaconda3\\lib\\site-packages\\tensorboard\\main.py\", line 46, in run_main\n",
       "    app.run(tensorboard.main, flags_parser=tensorboard.configure)\n",
       "  File \"C:\\Users\\User\\anaconda3\\lib\\site-packages\\absl\\app.py\", line 308, in run\n",
       "    _run_main(main, args)\n",
       "  File \"C:\\Users\\User\\anaconda3\\lib\\site-packages\\absl\\app.py\", line 254, in _run_main\n",
       "    sys.exit(main(argv))\n",
       "  File \"C:\\Users\\User\\anaconda3\\lib\\site-packages\\tensorboard\\program.py\", line 276, in main\n",
       "    return runner(self.flags) or 0\n",
       "  File \"C:\\Users\\User\\anaconda3\\lib\\site-packages\\tensorboard\\program.py\", line 292, in _run_serve_subcommand\n",
       "    server = self._make_server()\n",
       "  File \"C:\\Users\\User\\anaconda3\\lib\\site-packages\\tensorboard\\program.py\", line 467, in _make_server\n",
       "    app = application.TensorBoardWSGIApp(\n",
       "  File \"C:\\Users\\User\\anaconda3\\lib\\site-packages\\tensorboard\\backend\\application.py\", line 140, in TensorBoardWSGIApp\n",
       "    return TensorBoardWSGI(\n",
       "  File \"C:\\Users\\User\\anaconda3\\lib\\site-packages\\tensorboard\\backend\\application.py\", line 253, in __init__\n",
       "    raise ValueError(\n",
       "ValueError: Duplicate plugins for name projector"
      ]
     },
     "metadata": {},
     "output_type": "display_data"
    }
   ],
   "source": [
    "%load_ext tensorboard\n",
    "%tensorboard --logdir /full_path_to_your_log_dir"
   ]
  },
  {
   "cell_type": "markdown",
   "metadata": {
    "colab_type": "text"
   },
   "source": [
    "## Writing your own training and evaluation loops"
   ]
  },
  {
   "cell_type": "markdown",
   "metadata": {
    "colab_type": "text"
   },
   "source": [
    "### Training versus inference"
   ]
  },
  {
   "cell_type": "markdown",
   "metadata": {
    "colab_type": "text"
   },
   "source": [
    "### Low-level usage of metrics"
   ]
  },
  {
   "cell_type": "code",
   "execution_count": 41,
   "metadata": {
    "colab_type": "code"
   },
   "outputs": [
    {
     "name": "stdout",
     "output_type": "stream",
     "text": [
      "result: 1.00\n"
     ]
    }
   ],
   "source": [
    "metric = keras.metrics.SparseCategoricalAccuracy()\n",
    "targets = [0, 1, 2]\n",
    "predictions = [[1, 0, 0], [0, 1, 0], [0, 0, 1]]\n",
    "metric.update_state(targets, predictions)\n",
    "current_result = metric.result()\n",
    "print(f\"result: {current_result:.2f}\")"
   ]
  },
  {
   "cell_type": "code",
   "execution_count": 42,
   "metadata": {
    "colab_type": "code"
   },
   "outputs": [
    {
     "name": "stdout",
     "output_type": "stream",
     "text": [
      "Mean of values: 2.00\n"
     ]
    }
   ],
   "source": [
    "values = [0, 1, 2, 3, 4]\n",
    "mean_tracker = keras.metrics.Mean()\n",
    "for value in values:\n",
    "    mean_tracker.update_state(value)\n",
    "print(f\"Mean of values: {mean_tracker.result():.2f}\")"
   ]
  },
  {
   "cell_type": "markdown",
   "metadata": {
    "colab_type": "text"
   },
   "source": [
    "### A complete training and evaluation loop"
   ]
  },
  {
   "cell_type": "markdown",
   "metadata": {
    "colab_type": "text"
   },
   "source": [
    "**Writing a step-by-step training loop: the training step function**"
   ]
  },
  {
   "cell_type": "code",
   "execution_count": 43,
   "metadata": {
    "colab_type": "code"
   },
   "outputs": [],
   "source": [
    "model = get_mnist_model()\n",
    "\n",
    "loss_fn = keras.losses.SparseCategoricalCrossentropy()\n",
    "optimizer = keras.optimizers.RMSprop()\n",
    "metrics = [keras.metrics.SparseCategoricalAccuracy()]\n",
    "loss_tracking_metric = keras.metrics.Mean()\n",
    "\n",
    "def train_step(inputs, targets):\n",
    "    with tf.GradientTape() as tape:\n",
    "        predictions = model(inputs, training=True)\n",
    "        loss = loss_fn(targets, predictions)\n",
    "    gradients = tape.gradient(loss, model.trainable_weights)\n",
    "    optimizer.apply_gradients(zip(gradients, model.trainable_weights))\n",
    "\n",
    "    logs = {}\n",
    "    for metric in metrics:\n",
    "        metric.update_state(targets, predictions)\n",
    "        logs[metric.name] = metric.result()\n",
    "\n",
    "    loss_tracking_metric.update_state(loss)\n",
    "    logs[\"loss\"] = loss_tracking_metric.result()\n",
    "    return logs"
   ]
  },
  {
   "cell_type": "markdown",
   "metadata": {
    "colab_type": "text"
   },
   "source": [
    "**Writing a step-by-step training loop: resetting the metrics**"
   ]
  },
  {
   "cell_type": "code",
   "execution_count": 44,
   "metadata": {
    "colab_type": "code"
   },
   "outputs": [],
   "source": [
    "def reset_metrics():\n",
    "    for metric in metrics:\n",
    "        metric.reset_state()\n",
    "    loss_tracking_metric.reset_state()"
   ]
  },
  {
   "cell_type": "markdown",
   "metadata": {
    "colab_type": "text"
   },
   "source": [
    "**Writing a step-by-step training loop: the loop itself**"
   ]
  },
  {
   "cell_type": "code",
   "execution_count": 45,
   "metadata": {
    "colab_type": "code"
   },
   "outputs": [
    {
     "name": "stdout",
     "output_type": "stream",
     "text": [
      "Results at the end of epoch 0\n",
      "...sparse_categorical_accuracy: 0.9141\n",
      "...loss: 0.2939\n",
      "Results at the end of epoch 1\n",
      "...sparse_categorical_accuracy: 0.9538\n",
      "...loss: 0.1676\n",
      "Results at the end of epoch 2\n",
      "...sparse_categorical_accuracy: 0.9618\n",
      "...loss: 0.1409\n"
     ]
    }
   ],
   "source": [
    "training_dataset = tf.data.Dataset.from_tensor_slices((train_images, train_labels))\n",
    "training_dataset = training_dataset.batch(32)\n",
    "epochs = 3\n",
    "for epoch in range(epochs):\n",
    "    reset_metrics()\n",
    "    for inputs_batch, targets_batch in training_dataset:\n",
    "        logs = train_step(inputs_batch, targets_batch)\n",
    "    print(f\"Results at the end of epoch {epoch}\")\n",
    "    for key, value in logs.items():\n",
    "        print(f\"...{key}: {value:.4f}\")"
   ]
  },
  {
   "cell_type": "markdown",
   "metadata": {
    "colab_type": "text"
   },
   "source": [
    "**Writing a step-by-step evaluation loop**"
   ]
  },
  {
   "cell_type": "code",
   "execution_count": 46,
   "metadata": {
    "colab_type": "code"
   },
   "outputs": [
    {
     "name": "stdout",
     "output_type": "stream",
     "text": [
      "Evaluation results:\n",
      "...val_sparse_categorical_accuracy: 0.9659\n",
      "...val_loss: 0.1313\n"
     ]
    }
   ],
   "source": [
    "def test_step(inputs, targets):\n",
    "    predictions = model(inputs, training=False)\n",
    "    loss = loss_fn(targets, predictions)\n",
    "\n",
    "    logs = {}\n",
    "    for metric in metrics:\n",
    "        metric.update_state(targets, predictions)\n",
    "        logs[\"val_\" + metric.name] = metric.result()\n",
    "\n",
    "    loss_tracking_metric.update_state(loss)\n",
    "    logs[\"val_loss\"] = loss_tracking_metric.result()\n",
    "    return logs\n",
    "\n",
    "val_dataset = tf.data.Dataset.from_tensor_slices((val_images, val_labels))\n",
    "val_dataset = val_dataset.batch(32)\n",
    "reset_metrics()\n",
    "for inputs_batch, targets_batch in val_dataset:\n",
    "    logs = test_step(inputs_batch, targets_batch)\n",
    "print(\"Evaluation results:\")\n",
    "for key, value in logs.items():\n",
    "    print(f\"...{key}: {value:.4f}\")"
   ]
  },
  {
   "cell_type": "markdown",
   "metadata": {
    "colab_type": "text"
   },
   "source": [
    "### Make it fast with tf.function"
   ]
  },
  {
   "cell_type": "markdown",
   "metadata": {
    "colab_type": "text"
   },
   "source": [
    "**Adding a `tf.function` decorator to our evaluation-step function**"
   ]
  },
  {
   "cell_type": "code",
   "execution_count": 47,
   "metadata": {
    "colab_type": "code"
   },
   "outputs": [
    {
     "name": "stdout",
     "output_type": "stream",
     "text": [
      "Evaluation results:\n",
      "...val_sparse_categorical_accuracy: 0.9659\n",
      "...val_loss: 0.1313\n"
     ]
    }
   ],
   "source": [
    "@tf.function\n",
    "def test_step(inputs, targets):\n",
    "    predictions = model(inputs, training=False)\n",
    "    loss = loss_fn(targets, predictions)\n",
    "\n",
    "    logs = {}\n",
    "    for metric in metrics:\n",
    "        metric.update_state(targets, predictions)\n",
    "        logs[\"val_\" + metric.name] = metric.result()\n",
    "\n",
    "    loss_tracking_metric.update_state(loss)\n",
    "    logs[\"val_loss\"] = loss_tracking_metric.result()\n",
    "    return logs\n",
    "\n",
    "val_dataset = tf.data.Dataset.from_tensor_slices((val_images, val_labels))\n",
    "val_dataset = val_dataset.batch(32)\n",
    "reset_metrics()\n",
    "for inputs_batch, targets_batch in val_dataset:\n",
    "    logs = test_step(inputs_batch, targets_batch)\n",
    "print(\"Evaluation results:\")\n",
    "for key, value in logs.items():\n",
    "    print(f\"...{key}: {value:.4f}\")"
   ]
  },
  {
   "cell_type": "markdown",
   "metadata": {
    "colab_type": "text"
   },
   "source": [
    "### Leveraging fit() with a custom training loop"
   ]
  },
  {
   "cell_type": "markdown",
   "metadata": {
    "colab_type": "text"
   },
   "source": [
    "**Implementing a custom training step to use with `fit()`**"
   ]
  },
  {
   "cell_type": "code",
   "execution_count": 48,
   "metadata": {
    "colab_type": "code"
   },
   "outputs": [],
   "source": [
    "loss_fn = keras.losses.SparseCategoricalCrossentropy()\n",
    "loss_tracker = keras.metrics.Mean(name=\"loss\")\n",
    "\n",
    "class CustomModel(keras.Model):\n",
    "    def train_step(self, data):\n",
    "        inputs, targets = data\n",
    "        with tf.GradientTape() as tape:\n",
    "            predictions = self(inputs, training=True)\n",
    "            loss = loss_fn(targets, predictions)\n",
    "        gradients = tape.gradient(loss, self.trainable_weights)\n",
    "        self.optimizer.apply_gradients(zip(gradients, self.trainable_weights))\n",
    "\n",
    "        loss_tracker.update_state(loss)\n",
    "        return {\"loss\": loss_tracker.result()}\n",
    "\n",
    "    @property\n",
    "    def metrics(self):\n",
    "        return [loss_tracker]"
   ]
  },
  {
   "cell_type": "code",
   "execution_count": 49,
   "metadata": {
    "colab_type": "code"
   },
   "outputs": [
    {
     "name": "stdout",
     "output_type": "stream",
     "text": [
      "Epoch 1/3\n",
      "1563/1563 [==============================] - 7s 4ms/step - loss: 0.2929\n",
      "Epoch 2/3\n",
      "1563/1563 [==============================] - 6s 4ms/step - loss: 0.1641\n",
      "Epoch 3/3\n",
      "1563/1563 [==============================] - 7s 4ms/step - loss: 0.1375\n"
     ]
    },
    {
     "data": {
      "text/plain": [
       "<keras.callbacks.History at 0x23900d18e80>"
      ]
     },
     "execution_count": 49,
     "metadata": {},
     "output_type": "execute_result"
    }
   ],
   "source": [
    "inputs = keras.Input(shape=(28 * 28,))\n",
    "features = layers.Dense(512, activation=\"relu\")(inputs)\n",
    "features = layers.Dropout(0.5)(features)\n",
    "outputs = layers.Dense(10, activation=\"softmax\")(features)\n",
    "model = CustomModel(inputs, outputs)\n",
    "\n",
    "model.compile(optimizer=keras.optimizers.RMSprop())\n",
    "model.fit(train_images, train_labels, epochs=3)"
   ]
  },
  {
   "cell_type": "code",
   "execution_count": 50,
   "metadata": {
    "colab_type": "code"
   },
   "outputs": [],
   "source": [
    "class CustomModel(keras.Model):\n",
    "    def train_step(self, data):\n",
    "        inputs, targets = data\n",
    "        with tf.GradientTape() as tape:\n",
    "            predictions = self(inputs, training=True)\n",
    "            loss = self.compiled_loss(targets, predictions)\n",
    "        gradients = tape.gradient(loss, self.trainable_weights)\n",
    "        self.optimizer.apply_gradients(zip(gradients, self.trainable_weights))\n",
    "        self.compiled_metrics.update_state(targets, predictions)\n",
    "        return {m.name: m.result() for m in self.metrics}"
   ]
  },
  {
   "cell_type": "code",
   "execution_count": 51,
   "metadata": {
    "colab_type": "code"
   },
   "outputs": [
    {
     "name": "stdout",
     "output_type": "stream",
     "text": [
      "Epoch 1/3\n",
      "1563/1563 [==============================] - 7s 4ms/step - loss: 0.2952 - sparse_categorical_accuracy: 0.9132\n",
      "Epoch 2/3\n",
      "1563/1563 [==============================] - 7s 4ms/step - loss: 0.1675 - sparse_categorical_accuracy: 0.9529\n",
      "Epoch 3/3\n",
      "1563/1563 [==============================] - 7s 4ms/step - loss: 0.1385 - sparse_categorical_accuracy: 0.9625\n"
     ]
    },
    {
     "data": {
      "text/plain": [
       "<keras.callbacks.History at 0x23900b82a90>"
      ]
     },
     "execution_count": 51,
     "metadata": {},
     "output_type": "execute_result"
    }
   ],
   "source": [
    "inputs = keras.Input(shape=(28 * 28,))\n",
    "features = layers.Dense(512, activation=\"relu\")(inputs)\n",
    "features = layers.Dropout(0.5)(features)\n",
    "outputs = layers.Dense(10, activation=\"softmax\")(features)\n",
    "model = CustomModel(inputs, outputs)\n",
    "\n",
    "model.compile(optimizer=keras.optimizers.RMSprop(),\n",
    "              loss=keras.losses.SparseCategoricalCrossentropy(),\n",
    "              metrics=[keras.metrics.SparseCategoricalAccuracy()])\n",
    "model.fit(train_images, train_labels, epochs=3)"
   ]
  },
  {
   "cell_type": "markdown",
   "metadata": {
    "colab_type": "text"
   },
   "source": [
    "## Summary"
   ]
  }
 ],
 "metadata": {
  "colab": {
   "collapsed_sections": [],
   "name": "chapter07_working-with-keras.i",
   "private_outputs": false,
   "provenance": [],
   "toc_visible": true
  },
  "kernelspec": {
   "display_name": "Python 3 (ipykernel)",
   "language": "python",
   "name": "python3"
  },
  "language_info": {
   "codemirror_mode": {
    "name": "ipython",
    "version": 3
   },
   "file_extension": ".py",
   "mimetype": "text/x-python",
   "name": "python",
   "nbconvert_exporter": "python",
   "pygments_lexer": "ipython3",
   "version": "3.9.12"
  }
 },
 "nbformat": 4,
 "nbformat_minor": 1
}
