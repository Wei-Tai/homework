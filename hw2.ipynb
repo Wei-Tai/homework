{
 "cells": [
  {
   "cell_type": "markdown",
   "id": "4023bfc6-22aa-4545-8c19-48b4ae101a3b",
   "metadata": {},
   "source": [
    "# 長庚大學 資工系/人工智慧學程  樣形識別/深度學習 課程使用之教材及示範程式 Ch02"
   ]
  },
  {
   "cell_type": "code",
   "execution_count": 1,
   "id": "fe262b16-1ad9-4057-8abf-188f9f0ed3dc",
   "metadata": {},
   "outputs": [],
   "source": [
    "import numpy as np\n",
    "import tensorflow as tf\n",
    "import tensorflow.keras as keras"
   ]
  },
  {
   "cell_type": "code",
   "execution_count": 2,
   "id": "c5f9aa07-85d8-47f3-a8a9-edd2264ea3fb",
   "metadata": {},
   "outputs": [],
   "source": [
    "(xr,yr), (xt,yt)= keras.datasets.mnist.load_data()"
   ]
  },
  {
   "cell_type": "code",
   "execution_count": 3,
   "id": "8c5713fc-00c8-4659-8831-21ba3832f17e",
   "metadata": {},
   "outputs": [
    {
     "data": {
      "text/plain": [
       "((60000, 28, 28), (60000,), (10000, 28, 28), (10000,))"
      ]
     },
     "execution_count": 3,
     "metadata": {},
     "output_type": "execute_result"
    }
   ],
   "source": [
    "xr.shape, yr.shape, xt.shape, yt.shape"
   ]
  },
  {
   "cell_type": "code",
   "execution_count": 4,
   "id": "66533075-600c-49d1-9a29-4f3e5d8d7b03",
   "metadata": {},
   "outputs": [
    {
     "name": "stdout",
     "output_type": "stream",
     "text": [
      "  0  0  0  0  0  0  0  0  0  0  0  0  0  0  0  0  0  0  0  0  0  0  0  0  0  0  0  0\n",
      "  0  0  0  0  0  0  0  0  0  0  0  0  0  0  0  0  0  0  0  0  0  0  0  0  0  0  0  0\n",
      "  0  0  0  0  0  0  0  0  0  0  0  0  0  0  0  0  0  0  0  0  0  0  0  0  0  0  0  0\n",
      "  0  0  0  0  0  0  0  0  0  0  0  0  0  0  0  0  0  0  0  0  0  0  0  0  0  0  0  0\n",
      "  0  0  0  0  0  0  0  0  0  0  0  0  0  0  0  0  0  0  0  0  0  0  0  0  0  0  0  0\n",
      "  0  0  0  0  0  0  0  0  0  0  0  0  3 18 18 18126136175 26166255247127  0  0  0  0\n",
      "  0  0  0  0  0  0  0  0 30 36 94154170253253253253253225172253242195 64  0  0  0  0\n",
      "  0  0  0  0  0  0  0 49238253253253253253253253253251 93 82 82 56 39  0  0  0  0  0\n",
      "  0  0  0  0  0  0  0 18219253253253253253198182247241  0  0  0  0  0  0  0  0  0  0\n",
      "  0  0  0  0  0  0  0  0 80156107253253205 11  0 43154  0  0  0  0  0  0  0  0  0  0\n",
      "  0  0  0  0  0  0  0  0  0 14  1154253 90  0  0  0  0  0  0  0  0  0  0  0  0  0  0\n",
      "  0  0  0  0  0  0  0  0  0  0  0139253190  2  0  0  0  0  0  0  0  0  0  0  0  0  0\n",
      "  0  0  0  0  0  0  0  0  0  0  0 11190253 70  0  0  0  0  0  0  0  0  0  0  0  0  0\n",
      "  0  0  0  0  0  0  0  0  0  0  0  0 35241225160108  1  0  0  0  0  0  0  0  0  0  0\n",
      "  0  0  0  0  0  0  0  0  0  0  0  0  0 81240253253119 25  0  0  0  0  0  0  0  0  0\n",
      "  0  0  0  0  0  0  0  0  0  0  0  0  0  0 45186253253150 27  0  0  0  0  0  0  0  0\n",
      "  0  0  0  0  0  0  0  0  0  0  0  0  0  0  0 16 93252253187  0  0  0  0  0  0  0  0\n",
      "  0  0  0  0  0  0  0  0  0  0  0  0  0  0  0  0  0249253249 64  0  0  0  0  0  0  0\n",
      "  0  0  0  0  0  0  0  0  0  0  0  0  0  0 46130183253253207  2  0  0  0  0  0  0  0\n",
      "  0  0  0  0  0  0  0  0  0  0  0  0 39148229253253253250182  0  0  0  0  0  0  0  0\n",
      "  0  0  0  0  0  0  0  0  0  0 24114221253253253253201 78  0  0  0  0  0  0  0  0  0\n",
      "  0  0  0  0  0  0  0  0 23 66213253253253253198 81  2  0  0  0  0  0  0  0  0  0  0\n",
      "  0  0  0  0  0  0 18171219253253253253195 80  9  0  0  0  0  0  0  0  0  0  0  0  0\n",
      "  0  0  0  0 55172226253253253253244133 11  0  0  0  0  0  0  0  0  0  0  0  0  0  0\n",
      "  0  0  0  0136253253253212135132 16  0  0  0  0  0  0  0  0  0  0  0  0  0  0  0  0\n",
      "  0  0  0  0  0  0  0  0  0  0  0  0  0  0  0  0  0  0  0  0  0  0  0  0  0  0  0  0\n",
      "  0  0  0  0  0  0  0  0  0  0  0  0  0  0  0  0  0  0  0  0  0  0  0  0  0  0  0  0\n",
      "  0  0  0  0  0  0  0  0  0  0  0  0  0  0  0  0  0  0  0  0  0  0  0  0  0  0  0  0\n"
     ]
    }
   ],
   "source": [
    "x= xr[0]\n",
    "#%%\n",
    "for i in range(28):\n",
    "    for j in range(28):\n",
    "        z= x[i,j]\n",
    "        print(f'{z:3d}', end='')\n",
    "    print()"
   ]
  },
  {
   "cell_type": "code",
   "execution_count": 5,
   "id": "0c746e80-cd34-424c-b622-010923ce355a",
   "metadata": {},
   "outputs": [
    {
     "data": {
      "text/plain": [
       "<matplotlib.image.AxesImage at 0x2e6704b3250>"
      ]
     },
     "execution_count": 5,
     "metadata": {},
     "output_type": "execute_result"
    },
    {
     "data": {
      "image/png": "[encoded data removed]",
      "text/plain": [
       "<Figure size 432x288 with 1 Axes>"
      ]
     },
     "metadata": {
      "needs_background": "light"
     },
     "output_type": "display_data"
    }
   ],
   "source": [
    "import matplotlib.pyplot as pl\n",
    "pl.imshow(x)"
   ]
  },
  {
   "cell_type": "code",
   "execution_count": 6,
   "id": "ff90b2c5-df90-456c-aa2d-358a8e892c16",
   "metadata": {},
   "outputs": [
    {
     "name": "stdout",
     "output_type": "stream",
     "text": [
      "y= 5\n"
     ]
    }
   ],
   "source": [
    "y= yr[0]\n",
    "print(f'{y= }')"
   ]
  },
  {
   "cell_type": "code",
   "execution_count": null,
   "id": "063eac0e-84ee-4c81-8b81-df98d98ce392",
   "metadata": {},
   "outputs": [],
   "source": []
  },
  {
   "cell_type": "code",
   "execution_count": 7,
   "id": "7ad94416-53ca-4b00-96b6-936e8fe43f25",
   "metadata": {},
   "outputs": [],
   "source": [
    "xr1= xr.reshape(-1, 28*28) \n",
    "xt1= xt.reshape(-1, 28*28) "
   ]
  },
  {
   "cell_type": "code",
   "execution_count": 8,
   "id": "5c3bc9ff-8e3c-47ce-9061-ebf2f147c207",
   "metadata": {},
   "outputs": [],
   "source": [
    "aModel= keras.Sequential([\n",
    "    keras.Input(28*28),\n",
    "    keras.layers.Dense(100),    \n",
    "    keras.layers.Dense(10)   \n",
    "    ])\n",
    "\n",
    "aModel.compile(\n",
    "    loss=     'sparse_categorical_crossentropy',\n",
    "    metrics= ['accuracy']\n",
    "    )"
   ]
  },
  {
   "cell_type": "code",
   "execution_count": 9,
   "id": "089bbcac-dbda-45ce-bd12-6b5608bb8904",
   "metadata": {},
   "outputs": [
    {
     "name": "stdout",
     "output_type": "stream",
     "text": [
      "Model: \"sequential\"\n",
      "_________________________________________________________________\n",
      " Layer (type)                Output Shape              Param #   \n",
      "=================================================================\n",
      " dense (Dense)               (None, 100)               78500     \n",
      "                                                                 \n",
      " dense_1 (Dense)             (None, 10)                1010      \n",
      "                                                                 \n",
      "=================================================================\n",
      "Total params: 79,510\n",
      "Trainable params: 79,510\n",
      "Non-trainable params: 0\n",
      "_________________________________________________________________\n"
     ]
    },
    {
     "data": {
      "image/png": "[encoded data removed]",
      "text/plain": [
       "<IPython.core.display.Image object>"
      ]
     },
     "execution_count": 9,
     "metadata": {},
     "output_type": "execute_result"
    }
   ],
   "source": [
    "aModel.summary()\n",
    "\n",
    "keras.utils.plot_model(aModel, \n",
    "    show_shapes= True, \n",
    "    show_layer_activations= True)"
   ]
  },
  {
   "cell_type": "code",
   "execution_count": 10,
   "id": "ecfe3ee7-4dfd-4a9c-ad70-42c1916ee5ba",
   "metadata": {},
   "outputs": [
    {
     "name": "stdout",
     "output_type": "stream",
     "text": [
      "Epoch 1/10\n",
      "3000/3000 [==============================] - 2s 704us/step - loss: 2.9669 - accuracy: 0.0752\n",
      "Epoch 2/10\n",
      "3000/3000 [==============================] - 2s 683us/step - loss: 2.3076 - accuracy: 0.0801\n",
      "Epoch 3/10\n",
      "3000/3000 [==============================] - 2s 682us/step - loss: 2.3035 - accuracy: 0.0780\n",
      "Epoch 4/10\n",
      "3000/3000 [==============================] - 2s 676us/step - loss: 2.3035 - accuracy: 0.0780\n",
      "Epoch 5/10\n",
      "3000/3000 [==============================] - 2s 683us/step - loss: 2.3035 - accuracy: 0.0780\n",
      "Epoch 6/10\n",
      "3000/3000 [==============================] - 2s 679us/step - loss: 2.3035 - accuracy: 0.0780\n",
      "Epoch 7/10\n",
      "3000/3000 [==============================] - 2s 684us/step - loss: 2.3035 - accuracy: 0.0780\n",
      "Epoch 8/10\n",
      "3000/3000 [==============================] - 2s 715us/step - loss: 2.3035 - accuracy: 0.0780\n",
      "Epoch 9/10\n",
      "3000/3000 [==============================] - 2s 722us/step - loss: 2.3035 - accuracy: 0.0780\n",
      "Epoch 10/10\n",
      "3000/3000 [==============================] - 2s 713us/step - loss: 2.3035 - accuracy: 0.0780\n",
      "313/313 [==============================] - 0s 557us/step - loss: 2.3026 - accuracy: 0.0723\n"
     ]
    },
    {
     "data": {
      "text/plain": [
       "[2.30259108543396, 0.0723000019788742]"
      ]
     },
     "execution_count": 10,
     "metadata": {},
     "output_type": "execute_result"
    }
   ],
   "source": [
    "aModel.fit(xr1, yr, \n",
    "           epochs= 10, \n",
    "           batch_size= 20)\n",
    "\n",
    "aModel.evaluate(xt1, yt)"
   ]
  },
  {
   "cell_type": "code",
   "execution_count": 18,
   "id": "660230a5-6afe-45c7-b698-7c7d9054e4c5",
   "metadata": {},
   "outputs": [
    {
     "name": "stdout",
     "output_type": "stream",
     "text": [
      "Epoch 1/10\n",
      "3000/3000 [==============================] - 3s 774us/step - loss: 3.5209 - accuracy: 0.2880\n",
      "Epoch 2/10\n",
      "3000/3000 [==============================] - 2s 807us/step - loss: 3.0991 - accuracy: 0.4173\n",
      "Epoch 3/10\n",
      "3000/3000 [==============================] - 2s 774us/step - loss: 3.1468 - accuracy: 0.4684\n",
      "Epoch 4/10\n",
      "3000/3000 [==============================] - 3s 850us/step - loss: 3.7664 - accuracy: 0.4188\n",
      "Epoch 5/10\n",
      "3000/3000 [==============================] - 2s 781us/step - loss: 3.7112 - accuracy: 0.4115\n",
      "Epoch 6/10\n",
      "3000/3000 [==============================] - 2s 803us/step - loss: 3.8365 - accuracy: 0.4432\n",
      "Epoch 7/10\n",
      "3000/3000 [==============================] - 2s 757us/step - loss: 3.6394 - accuracy: 0.4557\n",
      "Epoch 8/10\n",
      "3000/3000 [==============================] - 2s 742us/step - loss: 3.8574 - accuracy: 0.4583\n",
      "Epoch 9/10\n",
      "3000/3000 [==============================] - 2s 770us/step - loss: 3.9019 - accuracy: 0.4397\n",
      "Epoch 10/10\n",
      "3000/3000 [==============================] - 2s 755us/step - loss: 3.9096 - accuracy: 0.4403\n",
      "313/313 [==============================] - 0s 588us/step - loss: 3.6798 - accuracy: 0.4240\n"
     ]
    },
    {
     "data": {
      "text/plain": [
       "[3.6797664165496826, 0.42399999499320984]"
      ]
     },
     "execution_count": 18,
     "metadata": {},
     "output_type": "execute_result"
    }
   ],
   "source": [
    "\n",
    "aModel= keras.Sequential([\n",
    "    keras.Input(28*28),\n",
    "    keras.layers.Dense(100, activation= 'sigmoid'),    \n",
    "    keras.layers.Dense(50)   \n",
    "    ])\n",
    "\n",
    "aModel.compile(\n",
    "    loss=     'sparse_categorical_crossentropy',\n",
    "    metrics= ['accuracy']\n",
    "    )\n",
    "\n",
    "aModel.fit(xr1, yr, \n",
    "           epochs= 10, \n",
    "           batch_size= 20)\n",
    "\n",
    "aModel.evaluate(xt1, yt)"
   ]
  },
  {
   "cell_type": "code",
   "execution_count": 20,
   "id": "97b0333d-21ee-4392-911d-24d462fe67fd",
   "metadata": {},
   "outputs": [
    {
     "name": "stdout",
     "output_type": "stream",
     "text": [
      "Epoch 1/10\n",
      "600/600 [==============================] - 1s 1ms/step - loss: 0.5878 - accuracy: 0.8460\n",
      "Epoch 2/10\n",
      "600/600 [==============================] - 1s 1ms/step - loss: 0.2922 - accuracy: 0.9138\n",
      "Epoch 3/10\n",
      "600/600 [==============================] - 1s 1ms/step - loss: 0.2499 - accuracy: 0.9246\n",
      "Epoch 4/10\n",
      "600/600 [==============================] - 1s 1ms/step - loss: 0.2294 - accuracy: 0.9302\n",
      "Epoch 5/10\n",
      "600/600 [==============================] - 1s 1ms/step - loss: 0.2164 - accuracy: 0.9344\n",
      "Epoch 6/10\n",
      "600/600 [==============================] - 1s 1ms/step - loss: 0.2064 - accuracy: 0.9377\n",
      "Epoch 7/10\n",
      "600/600 [==============================] - 1s 1ms/step - loss: 0.1959 - accuracy: 0.9413\n",
      "Epoch 8/10\n",
      "600/600 [==============================] - 1s 1ms/step - loss: 0.1894 - accuracy: 0.9430\n",
      "Epoch 9/10\n",
      "600/600 [==============================] - 1s 1ms/step - loss: 0.1817 - accuracy: 0.9458\n",
      "Epoch 10/10\n",
      "600/600 [==============================] - 1s 1ms/step - loss: 0.1790 - accuracy: 0.9459\n",
      "313/313 [==============================] - 0s 613us/step - loss: 0.1858 - accuracy: 0.9454\n"
     ]
    },
    {
     "data": {
      "text/plain": [
       "[0.18575724959373474, 0.9453999996185303]"
      ]
     },
     "execution_count": 20,
     "metadata": {},
     "output_type": "execute_result"
    }
   ],
   "source": [
    "aModel= keras.Sequential([\n",
    "    keras.Input(28*28),\n",
    "    keras.layers.Dense(100, activation= 'sigmoid'),    \n",
    "    keras.layers.Dense(30,  activation= 'sigmoid')\n",
    "    ])\n",
    "\n",
    "aModel.compile(\n",
    "    loss=     'sparse_categorical_crossentropy',\n",
    "    metrics= ['accuracy']\n",
    "    )\n",
    "\n",
    "aModel.fit(xr1, yr, \n",
    "           epochs= 10, \n",
    "           batch_size= 100)\n",
    "\n",
    "aModel.evaluate(xt1, yt)"
   ]
  },
  {
   "cell_type": "code",
   "execution_count": 21,
   "id": "8a9719cd-be71-4769-be2a-90e07ce7d4ea",
   "metadata": {},
   "outputs": [
    {
     "name": "stdout",
     "output_type": "stream",
     "text": [
      "Epoch 1/10\n",
      "600/600 [==============================] - 1s 1ms/step - loss: 3.6112 - accuracy: 0.8575\n",
      "Epoch 2/10\n",
      "600/600 [==============================] - 1s 1ms/step - loss: 0.4795 - accuracy: 0.9202\n",
      "Epoch 3/10\n",
      "600/600 [==============================] - 1s 1ms/step - loss: 0.3558 - accuracy: 0.9381\n",
      "Epoch 4/10\n",
      "600/600 [==============================] - 1s 1ms/step - loss: 0.3015 - accuracy: 0.9481\n",
      "Epoch 5/10\n",
      "600/600 [==============================] - 1s 1ms/step - loss: 0.2720 - accuracy: 0.9535\n",
      "Epoch 6/10\n",
      "600/600 [==============================] - 1s 1ms/step - loss: 0.2443 - accuracy: 0.9574\n",
      "Epoch 7/10\n",
      "600/600 [==============================] - 1s 1ms/step - loss: 0.2295 - accuracy: 0.9599\n",
      "Epoch 8/10\n",
      "600/600 [==============================] - 1s 1ms/step - loss: 0.2074 - accuracy: 0.9643\n",
      "Epoch 9/10\n",
      "600/600 [==============================] - 1s 1ms/step - loss: 0.1938 - accuracy: 0.9670\n",
      "Epoch 10/10\n",
      "600/600 [==============================] - 1s 1ms/step - loss: 0.1885 - accuracy: 0.9681\n",
      "313/313 [==============================] - 0s 556us/step - loss: 0.4509 - accuracy: 0.9558\n"
     ]
    },
    {
     "data": {
      "text/plain": [
       "[0.45086660981178284, 0.9557999968528748]"
      ]
     },
     "execution_count": 21,
     "metadata": {},
     "output_type": "execute_result"
    }
   ],
   "source": [
    "aModel= keras.Sequential([\n",
    "    keras.Input(28*28),\n",
    "    keras.layers.Dense(100, activation= 'relu'),    \n",
    "    keras.layers.Dense(10,  activation= 'sigmoid')\n",
    "    ])\n",
    "\n",
    "aModel.compile(\n",
    "    loss=     'sparse_categorical_crossentropy',\n",
    "    metrics= ['accuracy']\n",
    "    )\n",
    "\n",
    "aModel.fit(xr1, yr, \n",
    "           epochs= 10, \n",
    "           batch_size= 100)\n",
    "\n",
    "aModel.evaluate(xt1, yt)"
   ]
  },
  {
   "cell_type": "code",
   "execution_count": 22,
   "id": "34818214-d878-4d87-a0f4-f03f6e34f653",
   "metadata": {},
   "outputs": [
    {
     "name": "stdout",
     "output_type": "stream",
     "text": [
      "Epoch 1/10\n",
      "600/600 [==============================] - 1s 1ms/step - loss: 3.5613 - accuracy: 0.8494\n",
      "Epoch 2/10\n",
      "600/600 [==============================] - 1s 1ms/step - loss: 0.4910 - accuracy: 0.9184\n",
      "Epoch 3/10\n",
      "600/600 [==============================] - 1s 1ms/step - loss: 0.3606 - accuracy: 0.9376\n",
      "Epoch 4/10\n",
      "600/600 [==============================] - 1s 1ms/step - loss: 0.2930 - accuracy: 0.9485\n",
      "Epoch 5/10\n",
      "600/600 [==============================] - 1s 1ms/step - loss: 0.2649 - accuracy: 0.9545\n",
      "Epoch 6/10\n",
      "600/600 [==============================] - 1s 1ms/step - loss: 0.2439 - accuracy: 0.9588\n",
      "Epoch 7/10\n",
      "600/600 [==============================] - 1s 1ms/step - loss: 0.2143 - accuracy: 0.9623\n",
      "Epoch 8/10\n",
      "600/600 [==============================] - 1s 1ms/step - loss: 0.2018 - accuracy: 0.9677\n",
      "Epoch 9/10\n",
      "600/600 [==============================] - 1s 1ms/step - loss: 0.1921 - accuracy: 0.9689\n",
      "Epoch 10/10\n",
      "600/600 [==============================] - 1s 1ms/step - loss: 0.1748 - accuracy: 0.9718\n",
      "313/313 [==============================] - 0s 562us/step - loss: 0.4766 - accuracy: 0.9554\n"
     ]
    },
    {
     "data": {
      "text/plain": [
       "[0.47660019993782043, 0.9553999900817871]"
      ]
     },
     "execution_count": 22,
     "metadata": {},
     "output_type": "execute_result"
    }
   ],
   "source": [
    "aModel= keras.Sequential([\n",
    "    keras.Input(28*28),\n",
    "    keras.layers.Dense(100, activation= 'relu'),    \n",
    "    keras.layers.Dense(10,  activation= 'softmax')\n",
    "    ])\n",
    "\n",
    "aModel.compile(\n",
    "    loss=     'sparse_categorical_crossentropy',\n",
    "    metrics= ['accuracy']\n",
    "    )\n",
    "\n",
    "aModel.fit(xr1, yr, \n",
    "           epochs= 10, \n",
    "           batch_size= 100)\n",
    "\n",
    "aModel.evaluate(xt1, yt)"
   ]
  },
  {
   "cell_type": "code",
   "execution_count": 23,
   "id": "74f3c7bf-a031-4fd7-8456-93373a73bb68",
   "metadata": {},
   "outputs": [
    {
     "name": "stdout",
     "output_type": "stream",
     "text": [
      "Epoch 1/10\n",
      "600/600 [==============================] - 1s 1ms/step - loss: 0.3295 - accuracy: 0.9090\n",
      "Epoch 2/10\n",
      "600/600 [==============================] - 1s 1ms/step - loss: 0.1600 - accuracy: 0.9537\n",
      "Epoch 3/10\n",
      "600/600 [==============================] - 1s 1ms/step - loss: 0.1158 - accuracy: 0.9662\n",
      "Epoch 4/10\n",
      "600/600 [==============================] - 1s 1ms/step - loss: 0.0917 - accuracy: 0.9728\n",
      "Epoch 5/10\n",
      "600/600 [==============================] - 1s 1ms/step - loss: 0.0755 - accuracy: 0.9777\n",
      "Epoch 6/10\n",
      "600/600 [==============================] - 1s 1ms/step - loss: 0.0636 - accuracy: 0.9812\n",
      "Epoch 7/10\n",
      "600/600 [==============================] - 1s 1ms/step - loss: 0.0539 - accuracy: 0.9838\n",
      "Epoch 8/10\n",
      "600/600 [==============================] - 1s 1ms/step - loss: 0.0468 - accuracy: 0.9867\n",
      "Epoch 9/10\n",
      "600/600 [==============================] - 1s 1ms/step - loss: 0.0412 - accuracy: 0.9881\n",
      "Epoch 10/10\n",
      "600/600 [==============================] - 1s 1ms/step - loss: 0.0364 - accuracy: 0.9894\n",
      "313/313 [==============================] - 0s 569us/step - loss: 0.0764 - accuracy: 0.9780\n"
     ]
    },
    {
     "data": {
      "text/plain": [
       "[0.07640596479177475, 0.9779999852180481]"
      ]
     },
     "execution_count": 23,
     "metadata": {},
     "output_type": "execute_result"
    }
   ],
   "source": [
    "xr1= xr.reshape(-1,28*28) /255\n",
    "xt1= xt.reshape(-1,28*28) /255\n",
    "\n",
    "\n",
    "aModel= keras.Sequential([\n",
    "    keras.Input(28*28),\n",
    "    keras.layers.Dense(100, activation= 'relu'),    \n",
    "    keras.layers.Dense(10,  activation= 'softmax')\n",
    "    ])\n",
    "\n",
    "aModel.compile(\n",
    "    loss=     'sparse_categorical_crossentropy',\n",
    "    metrics= ['accuracy']\n",
    "    )\n",
    "\n",
    "aModel.fit(xr1, yr, \n",
    "           epochs= 10, \n",
    "           batch_size= 100)\n",
    "\n",
    "aModel.evaluate(xt1, yt)"
   ]
  },
  {
   "cell_type": "code",
   "execution_count": 24,
   "id": "22b7e84f-a229-4e3b-bdd2-a7c7361b126d",
   "metadata": {},
   "outputs": [
    {
     "name": "stdout",
     "output_type": "stream",
     "text": [
      "Epoch 1/10\n",
      "600/600 [==============================] - 1s 1ms/step - loss: 0.2829 - accuracy: 0.9209\n",
      "Epoch 2/10\n",
      "600/600 [==============================] - 1s 1ms/step - loss: 0.1272 - accuracy: 0.9625\n",
      "Epoch 3/10\n",
      "600/600 [==============================] - 1s 1ms/step - loss: 0.0879 - accuracy: 0.9739\n",
      "Epoch 4/10\n",
      "600/600 [==============================] - 1s 1ms/step - loss: 0.0665 - accuracy: 0.9805\n",
      "Epoch 5/10\n",
      "600/600 [==============================] - 1s 1ms/step - loss: 0.0530 - accuracy: 0.9843\n",
      "Epoch 6/10\n",
      "600/600 [==============================] - 1s 1ms/step - loss: 0.0435 - accuracy: 0.9878\n",
      "Epoch 7/10\n",
      "600/600 [==============================] - 1s 1ms/step - loss: 0.0361 - accuracy: 0.9899\n",
      "Epoch 8/10\n",
      "600/600 [==============================] - 1s 1ms/step - loss: 0.0302 - accuracy: 0.9910\n",
      "Epoch 9/10\n",
      "600/600 [==============================] - 1s 1ms/step - loss: 0.0254 - accuracy: 0.9926\n",
      "Epoch 10/10\n",
      "600/600 [==============================] - 1s 1ms/step - loss: 0.0214 - accuracy: 0.9941\n",
      "313/313 [==============================] - 0s 631us/step - loss: 0.0716 - accuracy: 0.9793\n"
     ]
    },
    {
     "data": {
      "text/plain": [
       "[0.07161553204059601, 0.9793000221252441]"
      ]
     },
     "execution_count": 24,
     "metadata": {},
     "output_type": "execute_result"
    }
   ],
   "source": [
    "aModel= keras.Sequential([\n",
    "    keras.Input(28*28),\n",
    "    keras.layers.Dense(200, activation= 'relu'),    \n",
    "    keras.layers.Dense(10,  activation= 'softmax')\n",
    "    ])\n",
    "\n",
    "aModel.compile(\n",
    "    loss=     'sparse_categorical_crossentropy',\n",
    "    metrics= ['accuracy']\n",
    "    )\n",
    "\n",
    "aModel.fit(xr1, yr, \n",
    "           epochs= 10, \n",
    "           batch_size= 100)\n",
    "\n",
    "aModel.evaluate(xt1, yt)"
   ]
  },
  {
   "cell_type": "code",
   "execution_count": 25,
   "id": "5188adb1-dbc2-42af-97ca-297d0c33ae5f",
   "metadata": {},
   "outputs": [
    {
     "name": "stdout",
     "output_type": "stream",
     "text": [
      "Epoch 1/10\n",
      "600/600 [==============================] - 1s 1ms/step - loss: 0.2999 - accuracy: 0.9137\n",
      "Epoch 2/10\n",
      "600/600 [==============================] - 1s 1ms/step - loss: 0.1332 - accuracy: 0.9607\n",
      "Epoch 3/10\n",
      "600/600 [==============================] - 1s 1ms/step - loss: 0.0921 - accuracy: 0.9726\n",
      "Epoch 4/10\n",
      "600/600 [==============================] - 1s 1ms/step - loss: 0.0703 - accuracy: 0.9784\n",
      "Epoch 5/10\n",
      "600/600 [==============================] - 1s 1ms/step - loss: 0.0575 - accuracy: 0.9827\n",
      "Epoch 6/10\n",
      "600/600 [==============================] - 1s 1ms/step - loss: 0.0463 - accuracy: 0.9855\n",
      "Epoch 7/10\n",
      "600/600 [==============================] - 1s 1ms/step - loss: 0.0389 - accuracy: 0.9879\n",
      "Epoch 8/10\n",
      "600/600 [==============================] - 1s 1ms/step - loss: 0.0319 - accuracy: 0.9895\n",
      "Epoch 9/10\n",
      "600/600 [==============================] - 1s 1ms/step - loss: 0.0272 - accuracy: 0.9914\n",
      "Epoch 10/10\n",
      "600/600 [==============================] - 1s 1ms/step - loss: 0.0235 - accuracy: 0.9927\n",
      "313/313 [==============================] - 0s 540us/step - loss: 0.0786 - accuracy: 0.9794\n"
     ]
    },
    {
     "data": {
      "text/plain": [
       "[0.07855849713087082, 0.9793999791145325]"
      ]
     },
     "execution_count": 25,
     "metadata": {},
     "output_type": "execute_result"
    }
   ],
   "source": [
    "aModel= keras.Sequential([\n",
    "    keras.Input(28*28),\n",
    "    keras.layers.Dense(100, activation= 'relu'), \n",
    "    keras.layers.Dense(100, activation= 'relu'), \n",
    "    keras.layers.Dense(10,  activation= 'softmax')\n",
    "    ])\n",
    "\n",
    "aModel.compile(\n",
    "    loss=     'sparse_categorical_crossentropy',\n",
    "    metrics= ['accuracy']\n",
    "    )\n",
    "\n",
    "aModel.fit(xr1, yr, \n",
    "           epochs= 10, \n",
    "           batch_size= 100)\n",
    "\n",
    "aModel.evaluate(xt1, yt)"
   ]
  },
  {
   "cell_type": "code",
   "execution_count": 26,
   "id": "e86ac3ba-b71d-443e-9b83-219886549875",
   "metadata": {},
   "outputs": [
    {
     "name": "stdout",
     "output_type": "stream",
     "text": [
      "Epoch 1/10\n",
      "600/600 [==============================] - 1s 1ms/step - loss: 0.2913 - accuracy: 0.9160\n",
      "Epoch 2/10\n",
      "600/600 [==============================] - 1s 1ms/step - loss: 0.1235 - accuracy: 0.9624\n",
      "Epoch 3/10\n",
      "600/600 [==============================] - 1s 1ms/step - loss: 0.0861 - accuracy: 0.9739\n",
      "Epoch 4/10\n",
      "600/600 [==============================] - 1s 1ms/step - loss: 0.0641 - accuracy: 0.9804\n",
      "Epoch 5/10\n",
      "600/600 [==============================] - 1s 1ms/step - loss: 0.0521 - accuracy: 0.9842\n",
      "Epoch 6/10\n",
      "600/600 [==============================] - 1s 1ms/step - loss: 0.0417 - accuracy: 0.9871\n",
      "Epoch 7/10\n",
      "600/600 [==============================] - 1s 1ms/step - loss: 0.0356 - accuracy: 0.9889\n",
      "Epoch 8/10\n",
      "600/600 [==============================] - 1s 1ms/step - loss: 0.0282 - accuracy: 0.9911\n",
      "Epoch 9/10\n",
      "600/600 [==============================] - 1s 1ms/step - loss: 0.0237 - accuracy: 0.9928\n",
      "Epoch 10/10\n",
      "600/600 [==============================] - 1s 1ms/step - loss: 0.0198 - accuracy: 0.9938\n",
      "313/313 [==============================] - 0s 617us/step - loss: 0.0828 - accuracy: 0.9794\n"
     ]
    },
    {
     "data": {
      "text/plain": [
       "[0.08277567476034164, 0.9793999791145325]"
      ]
     },
     "execution_count": 26,
     "metadata": {},
     "output_type": "execute_result"
    }
   ],
   "source": [
    "aModel= keras.Sequential([\n",
    "    keras.Input(28*28),\n",
    "    keras.layers.Dense(150, activation= 'relu'), \n",
    "    keras.layers.Dense(50,  activation= 'relu'), \n",
    "    keras.layers.Dense(10,  activation= 'softmax')\n",
    "    ])\n",
    "\n",
    "aModel.compile(\n",
    "    loss=     'sparse_categorical_crossentropy',\n",
    "    metrics= ['accuracy']\n",
    "    )\n",
    "\n",
    "aModel.fit(xr1, yr, \n",
    "           epochs= 10, \n",
    "           batch_size= 100)\n",
    "\n",
    "aModel.evaluate(xt1, yt)"
   ]
  },
  {
   "cell_type": "code",
   "execution_count": 27,
   "id": "c2b2e1b9-b82c-4600-9fc4-9b03e513ea82",
   "metadata": {},
   "outputs": [
    {
     "name": "stdout",
     "output_type": "stream",
     "text": [
      "Model: \"sequential_16\"\n",
      "_________________________________________________________________\n",
      " Layer (type)                Output Shape              Param #   \n",
      "=================================================================\n",
      " dense_33 (Dense)            (None, 150)               117750    \n",
      "                                                                 \n",
      " dense_34 (Dense)            (None, 50)                7550      \n",
      "                                                                 \n",
      " dense_35 (Dense)            (None, 10)                510       \n",
      "                                                                 \n",
      "=================================================================\n",
      "Total params: 125,810\n",
      "Trainable params: 125,810\n",
      "Non-trainable params: 0\n",
      "_________________________________________________________________\n"
     ]
    },
    {
     "data": {
      "image/png": "[encoded data removed]",
      "text/plain": [
       "<IPython.core.display.Image object>"
      ]
     },
     "execution_count": 27,
     "metadata": {},
     "output_type": "execute_result"
    }
   ],
   "source": [
    "aModel.summary()\n",
    "\n",
    "keras.utils.plot_model(aModel, \n",
    "    show_shapes= True, \n",
    "    show_layer_activations= True)"
   ]
  },
  {
   "cell_type": "markdown",
   "id": "8b4ee66f-1d7c-4cf2-bc53-6107399974b9",
   "metadata": {},
   "source": [
    "# 想想看，你能做那些改進來提升正確率 (accuracy) ？\n"
   ]
  },
  {
   "cell_type": "markdown",
   "id": "adb4088c",
   "metadata": {},
   "source": [
    "把batch_size調整。改變一些參數提高正確率"
   ]
  },
  {
   "cell_type": "markdown",
   "id": "2ce92f01",
   "metadata": {},
   "source": []
  },
  {
   "cell_type": "code",
   "execution_count": null,
   "id": "8b26b3a7-bbf2-45b2-966c-328008118f64",
   "metadata": {},
   "outputs": [],
   "source": []
  }
 ],
 "metadata": {
  "kernelspec": {
   "display_name": "Python 3 (ipykernel)",
   "language": "python",
   "name": "python3"
  },
  "language_info": {
   "codemirror_mode": {
    "name": "ipython",
    "version": 3
   },
   "file_extension": ".py",
   "mimetype": "text/x-python",
   "name": "python",
   "nbconvert_exporter": "python",
   "pygments_lexer": "ipython3",
   "version": "3.9.12"
  }
 },
 "nbformat": 4,
 "nbformat_minor": 5
}
