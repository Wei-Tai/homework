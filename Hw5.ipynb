{
 "cells": [
  {
   "cell_type": "markdown",
   "metadata": {
    "colab_type": "text"
   },
   "source": [
    "This is a companion notebook for the book [Deep Learning with Python, Second Edition](https://www.manning.com/books/deep-learning-with-python-second-edition?a_aid=keras&a_bid=76564dff). For readability, it only contains runnable code blocks and section titles, and omits everything else in the book: text paragraphs, figures, and pseudocode.\n",
    "\n",
    "**If you want to be able to follow what's going on, I recommend reading the notebook side by side with your copy of the book.**\n",
    "\n",
    "This notebook was generated for TensorFlow 2.6."
   ]
  },
  {
   "cell_type": "markdown",
   "metadata": {
    "colab_type": "text"
   },
   "source": [
    "# Fundamentals of machine learning"
   ]
  },
  {
   "cell_type": "markdown",
   "metadata": {
    "colab_type": "text"
   },
   "source": [
    "## Generalization: The goal of machine learning"
   ]
  },
  {
   "cell_type": "markdown",
   "metadata": {
    "colab_type": "text"
   },
   "source": [
    "### Underfitting and overfitting"
   ]
  },
  {
   "cell_type": "markdown",
   "metadata": {
    "colab_type": "text"
   },
   "source": [
    "#### Noisy training data"
   ]
  },
  {
   "cell_type": "markdown",
   "metadata": {
    "colab_type": "text"
   },
   "source": [
    "#### Ambiguous features"
   ]
  },
  {
   "cell_type": "markdown",
   "metadata": {
    "colab_type": "text"
   },
   "source": [
    "#### Rare features and spurious correlations"
   ]
  },
  {
   "cell_type": "markdown",
   "metadata": {
    "colab_type": "text"
   },
   "source": [
    "**Adding white-noise channels or all-zeros channels to MNIST**"
   ]
  },
  {
   "cell_type": "code",
   "execution_count": 1,
   "metadata": {
    "colab_type": "code"
   },
   "outputs": [],
   "source": [
    "from tensorflow.keras.datasets import mnist\n",
    "import numpy as np\n",
    "\n",
    "(train_images, train_labels), _ = mnist.load_data()\n",
    "train_images = train_images.reshape((60000, 28 * 28))\n",
    "train_images = train_images.astype(\"float32\") / 255\n",
    "\n",
    "train_images_with_noise_channels = np.concatenate(\n",
    "    [train_images, np.random.random((len(train_images), 784))], axis=1)\n",
    "\n",
    "train_images_with_zeros_channels = np.concatenate(\n",
    "    [train_images, np.zeros((len(train_images), 784))], axis=1)"
   ]
  },
  {
   "cell_type": "markdown",
   "metadata": {
    "colab_type": "text"
   },
   "source": [
    "**Training the same model on MNIST data with noise channels or all-zero channels**"
   ]
  },
  {
   "cell_type": "code",
   "execution_count": 2,
   "metadata": {
    "colab_type": "code"
   },
   "outputs": [
    {
     "name": "stdout",
     "output_type": "stream",
     "text": [
      "Epoch 1/10\n",
      "375/375 [==============================] - 3s 6ms/step - loss: 0.6081 - accuracy: 0.8120 - val_loss: 0.4010 - val_accuracy: 0.8680\n",
      "Epoch 2/10\n",
      "375/375 [==============================] - 2s 6ms/step - loss: 0.2433 - accuracy: 0.9250 - val_loss: 0.2432 - val_accuracy: 0.9233\n",
      "Epoch 3/10\n",
      "375/375 [==============================] - 2s 6ms/step - loss: 0.1589 - accuracy: 0.9509 - val_loss: 0.2175 - val_accuracy: 0.9352\n",
      "Epoch 4/10\n",
      "375/375 [==============================] - 2s 6ms/step - loss: 0.1140 - accuracy: 0.9646 - val_loss: 0.1357 - val_accuracy: 0.9613\n",
      "Epoch 5/10\n",
      "375/375 [==============================] - 2s 6ms/step - loss: 0.0845 - accuracy: 0.9735 - val_loss: 0.1359 - val_accuracy: 0.9612\n",
      "Epoch 6/10\n",
      "375/375 [==============================] - 2s 6ms/step - loss: 0.0636 - accuracy: 0.9793 - val_loss: 0.1258 - val_accuracy: 0.9647\n",
      "Epoch 7/10\n",
      "375/375 [==============================] - 2s 6ms/step - loss: 0.0468 - accuracy: 0.9846 - val_loss: 0.1218 - val_accuracy: 0.9678\n",
      "Epoch 8/10\n",
      "375/375 [==============================] - 2s 6ms/step - loss: 0.0340 - accuracy: 0.9891 - val_loss: 0.1859 - val_accuracy: 0.9551\n",
      "Epoch 9/10\n",
      "375/375 [==============================] - 2s 6ms/step - loss: 0.0267 - accuracy: 0.9910 - val_loss: 0.1247 - val_accuracy: 0.9694\n",
      "Epoch 10/10\n",
      "375/375 [==============================] - 2s 6ms/step - loss: 0.0212 - accuracy: 0.9929 - val_loss: 0.1364 - val_accuracy: 0.9699\n",
      "Epoch 1/10\n",
      "375/375 [==============================] - 2s 6ms/step - loss: 0.2874 - accuracy: 0.9160 - val_loss: 0.1594 - val_accuracy: 0.9558\n",
      "Epoch 2/10\n",
      "375/375 [==============================] - 2s 6ms/step - loss: 0.1179 - accuracy: 0.9657 - val_loss: 0.1037 - val_accuracy: 0.9679\n",
      "Epoch 3/10\n",
      "375/375 [==============================] - 2s 6ms/step - loss: 0.0788 - accuracy: 0.9772 - val_loss: 0.0854 - val_accuracy: 0.9740\n",
      "Epoch 4/10\n",
      "375/375 [==============================] - 2s 6ms/step - loss: 0.0554 - accuracy: 0.9830 - val_loss: 0.0833 - val_accuracy: 0.9762\n",
      "Epoch 5/10\n",
      "375/375 [==============================] - 2s 6ms/step - loss: 0.0421 - accuracy: 0.9879 - val_loss: 0.0896 - val_accuracy: 0.9741\n",
      "Epoch 6/10\n",
      "375/375 [==============================] - 2s 6ms/step - loss: 0.0314 - accuracy: 0.9910 - val_loss: 0.0850 - val_accuracy: 0.9772\n",
      "Epoch 7/10\n",
      "375/375 [==============================] - 2s 6ms/step - loss: 0.0235 - accuracy: 0.9933 - val_loss: 0.0814 - val_accuracy: 0.9780\n",
      "Epoch 8/10\n",
      "375/375 [==============================] - 2s 6ms/step - loss: 0.0183 - accuracy: 0.9948 - val_loss: 0.0858 - val_accuracy: 0.9783\n",
      "Epoch 9/10\n",
      "375/375 [==============================] - 2s 6ms/step - loss: 0.0137 - accuracy: 0.9964 - val_loss: 0.0825 - val_accuracy: 0.9807\n",
      "Epoch 10/10\n",
      "375/375 [==============================] - 2s 6ms/step - loss: 0.0103 - accuracy: 0.9971 - val_loss: 0.0909 - val_accuracy: 0.9789\n"
     ]
    }
   ],
   "source": [
    "from tensorflow import keras\n",
    "from tensorflow.keras import layers\n",
    "\n",
    "def get_model():\n",
    "    model = keras.Sequential([\n",
    "        layers.Dense(512, activation=\"relu\"),\n",
    "        layers.Dense(10, activation=\"softmax\")\n",
    "    ])\n",
    "    model.compile(optimizer=\"rmsprop\",\n",
    "                  loss=\"sparse_categorical_crossentropy\",\n",
    "                  metrics=[\"accuracy\"])\n",
    "    return model\n",
    "\n",
    "model = get_model()\n",
    "history_noise = model.fit(\n",
    "    train_images_with_noise_channels, train_labels,\n",
    "    epochs=10,\n",
    "    batch_size=128,\n",
    "    validation_split=0.2)\n",
    "\n",
    "model = get_model()\n",
    "history_zeros = model.fit(\n",
    "    train_images_with_zeros_channels, train_labels,\n",
    "    epochs=10,\n",
    "    batch_size=128,\n",
    "    validation_split=0.2)"
   ]
  },
  {
   "cell_type": "markdown",
   "metadata": {
    "colab_type": "text"
   },
   "source": [
    "**Plotting a validation accuracy comparison**"
   ]
  },
  {
   "cell_type": "code",
   "execution_count": 3,
   "metadata": {
    "colab_type": "code"
   },
   "outputs": [
    {
     "data": {
      "text/plain": [
       "<matplotlib.legend.Legend at 0x2abf7730fd0>"
      ]
     },
     "execution_count": 3,
     "metadata": {},
     "output_type": "execute_result"
    },
    {
     "data": {
      "image/png": "[encoded data removed]",
      "text/plain": [
       "<Figure size 432x288 with 1 Axes>"
      ]
     },
     "metadata": {
      "needs_background": "light"
     },
     "output_type": "display_data"
    }
   ],
   "source": [
    "import matplotlib.pyplot as plt\n",
    "val_acc_noise = history_noise.history[\"val_accuracy\"]\n",
    "val_acc_zeros = history_zeros.history[\"val_accuracy\"]\n",
    "epochs = range(1, 11)\n",
    "plt.plot(epochs, val_acc_noise, \"b-\",\n",
    "         label=\"Validation accuracy with noise channels\")\n",
    "plt.plot(epochs, val_acc_zeros, \"b--\",\n",
    "         label=\"Validation accuracy with zeros channels\")\n",
    "plt.title(\"Effect of noise channels on validation accuracy\")\n",
    "plt.xlabel(\"Epochs\")\n",
    "plt.ylabel(\"Accuracy\")\n",
    "plt.legend()"
   ]
  },
  {
   "cell_type": "markdown",
   "metadata": {
    "colab_type": "text"
   },
   "source": [
    "### The nature of generalization in deep learning"
   ]
  },
  {
   "cell_type": "markdown",
   "metadata": {
    "colab_type": "text"
   },
   "source": [
    "**Fitting a MNIST model with randomly shuffled labels**"
   ]
  },
  {
   "cell_type": "code",
   "execution_count": 4,
   "metadata": {
    "colab_type": "code"
   },
   "outputs": [
    {
     "name": "stdout",
     "output_type": "stream",
     "text": [
      "Epoch 1/100\n",
      "375/375 [==============================] - 2s 4ms/step - loss: 2.3174 - accuracy: 0.1043 - val_loss: 2.3063 - val_accuracy: 0.1030\n",
      "Epoch 2/100\n",
      "375/375 [==============================] - 1s 4ms/step - loss: 2.3005 - accuracy: 0.1158 - val_loss: 2.3147 - val_accuracy: 0.0984\n",
      "Epoch 3/100\n",
      "375/375 [==============================] - 1s 4ms/step - loss: 2.2899 - accuracy: 0.1279 - val_loss: 2.3215 - val_accuracy: 0.1023\n",
      "Epoch 4/100\n",
      "375/375 [==============================] - 1s 4ms/step - loss: 2.2758 - accuracy: 0.1418 - val_loss: 2.3344 - val_accuracy: 0.0988\n",
      "Epoch 5/100\n",
      "375/375 [==============================] - 1s 4ms/step - loss: 2.2581 - accuracy: 0.1570 - val_loss: 2.3429 - val_accuracy: 0.0958\n",
      "Epoch 6/100\n",
      "375/375 [==============================] - 1s 4ms/step - loss: 2.2367 - accuracy: 0.1689 - val_loss: 2.3565 - val_accuracy: 0.1022\n",
      "Epoch 7/100\n",
      "375/375 [==============================] - 1s 4ms/step - loss: 2.2107 - accuracy: 0.1855 - val_loss: 2.3710 - val_accuracy: 0.0967\n",
      "Epoch 8/100\n",
      "375/375 [==============================] - 1s 4ms/step - loss: 2.1821 - accuracy: 0.2019 - val_loss: 2.3951 - val_accuracy: 0.0949\n",
      "Epoch 9/100\n",
      "375/375 [==============================] - 1s 4ms/step - loss: 2.1522 - accuracy: 0.2162 - val_loss: 2.4238 - val_accuracy: 0.0964\n",
      "Epoch 10/100\n",
      "375/375 [==============================] - 1s 4ms/step - loss: 2.1197 - accuracy: 0.2340 - val_loss: 2.4403 - val_accuracy: 0.0943\n",
      "Epoch 11/100\n",
      "375/375 [==============================] - 1s 4ms/step - loss: 2.0851 - accuracy: 0.2494 - val_loss: 2.4692 - val_accuracy: 0.1016\n",
      "Epoch 12/100\n",
      "375/375 [==============================] - 1s 4ms/step - loss: 2.0506 - accuracy: 0.2664 - val_loss: 2.4931 - val_accuracy: 0.1010\n",
      "Epoch 13/100\n",
      "375/375 [==============================] - 1s 4ms/step - loss: 2.0138 - accuracy: 0.2836 - val_loss: 2.5190 - val_accuracy: 0.1003\n",
      "Epoch 14/100\n",
      "375/375 [==============================] - 1s 4ms/step - loss: 1.9767 - accuracy: 0.2998 - val_loss: 2.5521 - val_accuracy: 0.0968\n",
      "Epoch 15/100\n",
      "375/375 [==============================] - 1s 4ms/step - loss: 1.9442 - accuracy: 0.3144 - val_loss: 2.5830 - val_accuracy: 0.0938\n",
      "Epoch 16/100\n",
      "375/375 [==============================] - 1s 4ms/step - loss: 1.9061 - accuracy: 0.3295 - val_loss: 2.6238 - val_accuracy: 0.0955\n",
      "Epoch 17/100\n",
      "375/375 [==============================] - 1s 4ms/step - loss: 1.8701 - accuracy: 0.3446 - val_loss: 2.6640 - val_accuracy: 0.0944\n",
      "Epoch 18/100\n",
      "375/375 [==============================] - 1s 4ms/step - loss: 1.8370 - accuracy: 0.3559 - val_loss: 2.6759 - val_accuracy: 0.0966\n",
      "Epoch 19/100\n",
      "375/375 [==============================] - 1s 4ms/step - loss: 1.8025 - accuracy: 0.3708 - val_loss: 2.7309 - val_accuracy: 0.0971\n",
      "Epoch 20/100\n",
      "375/375 [==============================] - 1s 4ms/step - loss: 1.7672 - accuracy: 0.3835 - val_loss: 2.7519 - val_accuracy: 0.0978\n",
      "Epoch 21/100\n",
      "375/375 [==============================] - 1s 4ms/step - loss: 1.7358 - accuracy: 0.4001 - val_loss: 2.8063 - val_accuracy: 0.0977\n",
      "Epoch 22/100\n",
      "375/375 [==============================] - 1s 4ms/step - loss: 1.7037 - accuracy: 0.4101 - val_loss: 2.8458 - val_accuracy: 0.0960\n",
      "Epoch 23/100\n",
      "375/375 [==============================] - 1s 4ms/step - loss: 1.6699 - accuracy: 0.4220 - val_loss: 2.8933 - val_accuracy: 0.0980\n",
      "Epoch 24/100\n",
      "375/375 [==============================] - 1s 4ms/step - loss: 1.6419 - accuracy: 0.4313 - val_loss: 2.9197 - val_accuracy: 0.0970\n",
      "Epoch 25/100\n",
      "375/375 [==============================] - 1s 4ms/step - loss: 1.6094 - accuracy: 0.4456 - val_loss: 2.9545 - val_accuracy: 0.0993\n",
      "Epoch 26/100\n",
      "375/375 [==============================] - 1s 4ms/step - loss: 1.5794 - accuracy: 0.4559 - val_loss: 3.0239 - val_accuracy: 0.0964\n",
      "Epoch 27/100\n",
      "375/375 [==============================] - 1s 4ms/step - loss: 1.5512 - accuracy: 0.4669 - val_loss: 3.0558 - val_accuracy: 0.0972\n",
      "Epoch 28/100\n",
      "375/375 [==============================] - 1s 4ms/step - loss: 1.5235 - accuracy: 0.4752 - val_loss: 3.1080 - val_accuracy: 0.0962\n",
      "Epoch 29/100\n",
      "375/375 [==============================] - 1s 4ms/step - loss: 1.4960 - accuracy: 0.4877 - val_loss: 3.1411 - val_accuracy: 0.0978\n",
      "Epoch 30/100\n",
      "375/375 [==============================] - 1s 4ms/step - loss: 1.4697 - accuracy: 0.4978 - val_loss: 3.2053 - val_accuracy: 0.0999\n",
      "Epoch 31/100\n",
      "375/375 [==============================] - 1s 4ms/step - loss: 1.4420 - accuracy: 0.5079 - val_loss: 3.2674 - val_accuracy: 0.0932\n",
      "Epoch 32/100\n",
      "375/375 [==============================] - 1s 4ms/step - loss: 1.4171 - accuracy: 0.5171 - val_loss: 3.2888 - val_accuracy: 0.0961\n",
      "Epoch 33/100\n",
      "375/375 [==============================] - 1s 4ms/step - loss: 1.3921 - accuracy: 0.5255 - val_loss: 3.3358 - val_accuracy: 0.0973\n",
      "Epoch 34/100\n",
      "375/375 [==============================] - 1s 4ms/step - loss: 1.3684 - accuracy: 0.5337 - val_loss: 3.3911 - val_accuracy: 0.0972\n",
      "Epoch 35/100\n",
      "375/375 [==============================] - 1s 4ms/step - loss: 1.3464 - accuracy: 0.5421 - val_loss: 3.4591 - val_accuracy: 0.0957\n",
      "Epoch 36/100\n",
      "375/375 [==============================] - 1s 4ms/step - loss: 1.3218 - accuracy: 0.5496 - val_loss: 3.4830 - val_accuracy: 0.0972\n",
      "Epoch 37/100\n",
      "375/375 [==============================] - 1s 4ms/step - loss: 1.2964 - accuracy: 0.5603 - val_loss: 3.5451 - val_accuracy: 0.0977\n",
      "Epoch 38/100\n",
      "375/375 [==============================] - 1s 4ms/step - loss: 1.2757 - accuracy: 0.5653 - val_loss: 3.6017 - val_accuracy: 0.0994\n",
      "Epoch 39/100\n",
      "375/375 [==============================] - 1s 4ms/step - loss: 1.2539 - accuracy: 0.5754 - val_loss: 3.6518 - val_accuracy: 0.0981\n",
      "Epoch 40/100\n",
      "375/375 [==============================] - 1s 4ms/step - loss: 1.2313 - accuracy: 0.5839 - val_loss: 3.7052 - val_accuracy: 0.0998\n",
      "Epoch 41/100\n",
      "375/375 [==============================] - 1s 4ms/step - loss: 1.2126 - accuracy: 0.5900 - val_loss: 3.7751 - val_accuracy: 0.0977\n",
      "Epoch 42/100\n",
      "375/375 [==============================] - 1s 4ms/step - loss: 1.1922 - accuracy: 0.5969 - val_loss: 3.8002 - val_accuracy: 0.0972\n",
      "Epoch 43/100\n",
      "375/375 [==============================] - 1s 4ms/step - loss: 1.1702 - accuracy: 0.6054 - val_loss: 3.8710 - val_accuracy: 0.0996\n",
      "Epoch 44/100\n",
      "375/375 [==============================] - 1s 4ms/step - loss: 1.1509 - accuracy: 0.6122 - val_loss: 3.9047 - val_accuracy: 0.0987\n",
      "Epoch 45/100\n",
      "375/375 [==============================] - 1s 4ms/step - loss: 1.1336 - accuracy: 0.6200 - val_loss: 3.9865 - val_accuracy: 0.0937\n",
      "Epoch 46/100\n",
      "375/375 [==============================] - 1s 4ms/step - loss: 1.1157 - accuracy: 0.6245 - val_loss: 4.0368 - val_accuracy: 0.0964\n",
      "Epoch 47/100\n",
      "375/375 [==============================] - 1s 4ms/step - loss: 1.0955 - accuracy: 0.6309 - val_loss: 4.0789 - val_accuracy: 0.0947\n",
      "Epoch 48/100\n",
      "375/375 [==============================] - 1s 4ms/step - loss: 1.0778 - accuracy: 0.6379 - val_loss: 4.1680 - val_accuracy: 0.0963\n",
      "Epoch 49/100\n",
      "375/375 [==============================] - 1s 4ms/step - loss: 1.0611 - accuracy: 0.6440 - val_loss: 4.2055 - val_accuracy: 0.0966\n",
      "Epoch 50/100\n",
      "375/375 [==============================] - 1s 4ms/step - loss: 1.0431 - accuracy: 0.6509 - val_loss: 4.2573 - val_accuracy: 0.0954\n",
      "Epoch 51/100\n",
      "375/375 [==============================] - 1s 4ms/step - loss: 1.0272 - accuracy: 0.6579 - val_loss: 4.3177 - val_accuracy: 0.0963\n",
      "Epoch 52/100\n",
      "375/375 [==============================] - 1s 4ms/step - loss: 1.0098 - accuracy: 0.6629 - val_loss: 4.3525 - val_accuracy: 0.0964\n",
      "Epoch 53/100\n",
      "375/375 [==============================] - 1s 4ms/step - loss: 0.9947 - accuracy: 0.6690 - val_loss: 4.4323 - val_accuracy: 0.0955\n",
      "Epoch 54/100\n",
      "375/375 [==============================] - 1s 4ms/step - loss: 0.9776 - accuracy: 0.6739 - val_loss: 4.4941 - val_accuracy: 0.0951\n",
      "Epoch 55/100\n",
      "375/375 [==============================] - 1s 4ms/step - loss: 0.9627 - accuracy: 0.6804 - val_loss: 4.5530 - val_accuracy: 0.0978\n",
      "Epoch 56/100\n",
      "375/375 [==============================] - 1s 4ms/step - loss: 0.9472 - accuracy: 0.6858 - val_loss: 4.5768 - val_accuracy: 0.0967\n",
      "Epoch 57/100\n",
      "375/375 [==============================] - 1s 4ms/step - loss: 0.9328 - accuracy: 0.6909 - val_loss: 4.6886 - val_accuracy: 0.0957\n"
     ]
    },
    {
     "name": "stdout",
     "output_type": "stream",
     "text": [
      "Epoch 58/100\n",
      "375/375 [==============================] - 1s 4ms/step - loss: 0.9179 - accuracy: 0.6948 - val_loss: 4.7267 - val_accuracy: 0.0977\n",
      "Epoch 59/100\n",
      "375/375 [==============================] - 1s 4ms/step - loss: 0.9025 - accuracy: 0.6995 - val_loss: 4.7702 - val_accuracy: 0.0972\n",
      "Epoch 60/100\n",
      "375/375 [==============================] - 1s 4ms/step - loss: 0.8887 - accuracy: 0.7053 - val_loss: 4.8700 - val_accuracy: 0.0964\n",
      "Epoch 61/100\n",
      "375/375 [==============================] - 1s 4ms/step - loss: 0.8757 - accuracy: 0.7088 - val_loss: 4.8773 - val_accuracy: 0.0978\n",
      "Epoch 62/100\n",
      "375/375 [==============================] - 1s 4ms/step - loss: 0.8608 - accuracy: 0.7165 - val_loss: 4.9650 - val_accuracy: 0.0952\n",
      "Epoch 63/100\n",
      "375/375 [==============================] - 1s 4ms/step - loss: 0.8460 - accuracy: 0.7191 - val_loss: 5.0422 - val_accuracy: 0.0970\n",
      "Epoch 64/100\n",
      "375/375 [==============================] - 1s 4ms/step - loss: 0.8320 - accuracy: 0.7259 - val_loss: 5.1047 - val_accuracy: 0.0986\n",
      "Epoch 65/100\n",
      "375/375 [==============================] - 1s 4ms/step - loss: 0.8211 - accuracy: 0.7269 - val_loss: 5.1503 - val_accuracy: 0.0974\n",
      "Epoch 66/100\n",
      "375/375 [==============================] - 1s 4ms/step - loss: 0.8081 - accuracy: 0.7333 - val_loss: 5.1992 - val_accuracy: 0.0971\n",
      "Epoch 67/100\n",
      "375/375 [==============================] - 1s 4ms/step - loss: 0.7953 - accuracy: 0.7366 - val_loss: 5.2770 - val_accuracy: 0.0967\n",
      "Epoch 68/100\n",
      "375/375 [==============================] - 1s 4ms/step - loss: 0.7838 - accuracy: 0.7411 - val_loss: 5.3162 - val_accuracy: 0.0962\n",
      "Epoch 69/100\n",
      "375/375 [==============================] - 1s 4ms/step - loss: 0.7682 - accuracy: 0.7456 - val_loss: 5.4095 - val_accuracy: 0.0978\n",
      "Epoch 70/100\n",
      "375/375 [==============================] - 1s 4ms/step - loss: 0.7580 - accuracy: 0.7503 - val_loss: 5.4661 - val_accuracy: 0.0972\n",
      "Epoch 71/100\n",
      "375/375 [==============================] - 1s 4ms/step - loss: 0.7466 - accuracy: 0.7546 - val_loss: 5.5228 - val_accuracy: 0.0990\n",
      "Epoch 72/100\n",
      "375/375 [==============================] - 1s 4ms/step - loss: 0.7349 - accuracy: 0.7599 - val_loss: 5.6002 - val_accuracy: 0.0974\n",
      "Epoch 73/100\n",
      "375/375 [==============================] - 1s 4ms/step - loss: 0.7232 - accuracy: 0.7641 - val_loss: 5.6244 - val_accuracy: 0.0995\n",
      "Epoch 74/100\n",
      "375/375 [==============================] - 1s 4ms/step - loss: 0.7104 - accuracy: 0.7674 - val_loss: 5.7369 - val_accuracy: 0.1009\n",
      "Epoch 75/100\n",
      "375/375 [==============================] - 1s 4ms/step - loss: 0.6999 - accuracy: 0.7706 - val_loss: 5.8162 - val_accuracy: 0.0968\n",
      "Epoch 76/100\n",
      "375/375 [==============================] - 1s 4ms/step - loss: 0.6893 - accuracy: 0.7736 - val_loss: 5.8738 - val_accuracy: 0.1000\n",
      "Epoch 77/100\n",
      "375/375 [==============================] - 1s 4ms/step - loss: 0.6801 - accuracy: 0.7780 - val_loss: 5.9123 - val_accuracy: 0.0955\n",
      "Epoch 78/100\n",
      "375/375 [==============================] - 1s 4ms/step - loss: 0.6704 - accuracy: 0.7817 - val_loss: 6.0074 - val_accuracy: 0.0990\n",
      "Epoch 79/100\n",
      "375/375 [==============================] - 1s 4ms/step - loss: 0.6590 - accuracy: 0.7844 - val_loss: 6.0624 - val_accuracy: 0.0988\n",
      "Epoch 80/100\n",
      "375/375 [==============================] - 1s 4ms/step - loss: 0.6508 - accuracy: 0.7883 - val_loss: 6.1397 - val_accuracy: 0.0996\n",
      "Epoch 81/100\n",
      "375/375 [==============================] - 1s 4ms/step - loss: 0.6398 - accuracy: 0.7923 - val_loss: 6.1862 - val_accuracy: 0.0974\n",
      "Epoch 82/100\n",
      "375/375 [==============================] - 2s 4ms/step - loss: 0.6295 - accuracy: 0.7944 - val_loss: 6.2697 - val_accuracy: 0.0981\n",
      "Epoch 83/100\n",
      "375/375 [==============================] - 1s 4ms/step - loss: 0.6206 - accuracy: 0.7982 - val_loss: 6.3468 - val_accuracy: 0.1046\n",
      "Epoch 84/100\n",
      "375/375 [==============================] - 2s 4ms/step - loss: 0.6110 - accuracy: 0.8022 - val_loss: 6.4001 - val_accuracy: 0.0967\n",
      "Epoch 85/100\n",
      "375/375 [==============================] - 1s 4ms/step - loss: 0.6022 - accuracy: 0.8047 - val_loss: 6.4465 - val_accuracy: 0.0987\n",
      "Epoch 86/100\n",
      "375/375 [==============================] - 1s 4ms/step - loss: 0.5906 - accuracy: 0.8082 - val_loss: 6.6059 - val_accuracy: 0.0982\n",
      "Epoch 87/100\n",
      "375/375 [==============================] - 1s 4ms/step - loss: 0.5856 - accuracy: 0.8096 - val_loss: 6.5838 - val_accuracy: 0.0977\n",
      "Epoch 88/100\n",
      "375/375 [==============================] - 1s 4ms/step - loss: 0.5760 - accuracy: 0.8143 - val_loss: 6.6723 - val_accuracy: 0.1024\n",
      "Epoch 89/100\n",
      "375/375 [==============================] - 1s 4ms/step - loss: 0.5651 - accuracy: 0.8180 - val_loss: 6.7506 - val_accuracy: 0.0973\n",
      "Epoch 90/100\n",
      "375/375 [==============================] - 1s 4ms/step - loss: 0.5582 - accuracy: 0.8206 - val_loss: 6.7961 - val_accuracy: 0.0979\n",
      "Epoch 91/100\n",
      "375/375 [==============================] - 1s 4ms/step - loss: 0.5504 - accuracy: 0.8225 - val_loss: 6.8564 - val_accuracy: 0.0967\n",
      "Epoch 92/100\n",
      "375/375 [==============================] - 1s 4ms/step - loss: 0.5413 - accuracy: 0.8256 - val_loss: 6.9896 - val_accuracy: 0.0972\n",
      "Epoch 93/100\n",
      "375/375 [==============================] - 1s 4ms/step - loss: 0.5349 - accuracy: 0.8271 - val_loss: 7.0231 - val_accuracy: 0.0993\n",
      "Epoch 94/100\n",
      "375/375 [==============================] - 1s 4ms/step - loss: 0.5264 - accuracy: 0.8319 - val_loss: 7.0975 - val_accuracy: 0.0990\n",
      "Epoch 95/100\n",
      "375/375 [==============================] - 1s 4ms/step - loss: 0.5180 - accuracy: 0.8331 - val_loss: 7.1619 - val_accuracy: 0.0946\n",
      "Epoch 96/100\n",
      "375/375 [==============================] - 1s 4ms/step - loss: 0.5111 - accuracy: 0.8371 - val_loss: 7.2985 - val_accuracy: 0.0964\n",
      "Epoch 97/100\n",
      "375/375 [==============================] - 1s 4ms/step - loss: 0.5017 - accuracy: 0.8390 - val_loss: 7.3012 - val_accuracy: 0.1009\n",
      "Epoch 98/100\n",
      "375/375 [==============================] - 1s 4ms/step - loss: 0.4953 - accuracy: 0.8429 - val_loss: 7.4195 - val_accuracy: 0.0984\n",
      "Epoch 99/100\n",
      "375/375 [==============================] - 1s 4ms/step - loss: 0.4877 - accuracy: 0.8456 - val_loss: 7.4507 - val_accuracy: 0.0969\n",
      "Epoch 100/100\n",
      "375/375 [==============================] - 1s 4ms/step - loss: 0.4799 - accuracy: 0.8464 - val_loss: 7.4978 - val_accuracy: 0.0982\n"
     ]
    },
    {
     "data": {
      "text/plain": [
       "<keras.callbacks.History at 0x2abf7ebf790>"
      ]
     },
     "execution_count": 4,
     "metadata": {},
     "output_type": "execute_result"
    }
   ],
   "source": [
    "(train_images, train_labels), _ = mnist.load_data()\n",
    "train_images = train_images.reshape((60000, 28 * 28))\n",
    "train_images = train_images.astype(\"float32\") / 255\n",
    "\n",
    "random_train_labels = train_labels[:]\n",
    "np.random.shuffle(random_train_labels)\n",
    "\n",
    "model = keras.Sequential([\n",
    "    layers.Dense(512, activation=\"relu\"),\n",
    "    layers.Dense(10, activation=\"softmax\")\n",
    "])\n",
    "model.compile(optimizer=\"rmsprop\",\n",
    "              loss=\"sparse_categorical_crossentropy\",\n",
    "              metrics=[\"accuracy\"])\n",
    "model.fit(train_images, random_train_labels,\n",
    "          epochs=100,\n",
    "          batch_size=128,\n",
    "          validation_split=0.2)"
   ]
  },
  {
   "cell_type": "markdown",
   "metadata": {
    "colab_type": "text"
   },
   "source": [
    "#### The manifold hypothesis"
   ]
  },
  {
   "cell_type": "markdown",
   "metadata": {
    "colab_type": "text"
   },
   "source": [
    "#### Interpolation as a source of generalization"
   ]
  },
  {
   "cell_type": "markdown",
   "metadata": {
    "colab_type": "text"
   },
   "source": [
    "#### Why deep learning works"
   ]
  },
  {
   "cell_type": "markdown",
   "metadata": {
    "colab_type": "text"
   },
   "source": [
    "#### Training data is paramount"
   ]
  },
  {
   "cell_type": "markdown",
   "metadata": {
    "colab_type": "text"
   },
   "source": [
    "## Evaluating machine-learning models"
   ]
  },
  {
   "cell_type": "markdown",
   "metadata": {
    "colab_type": "text"
   },
   "source": [
    "### Training, validation, and test sets"
   ]
  },
  {
   "cell_type": "markdown",
   "metadata": {
    "colab_type": "text"
   },
   "source": [
    "#### Simple hold-out validation"
   ]
  },
  {
   "cell_type": "markdown",
   "metadata": {
    "colab_type": "text"
   },
   "source": [
    "#### K-fold validation"
   ]
  },
  {
   "cell_type": "markdown",
   "metadata": {
    "colab_type": "text"
   },
   "source": [
    "#### Iterated K-fold validation with shuffling"
   ]
  },
  {
   "cell_type": "markdown",
   "metadata": {
    "colab_type": "text"
   },
   "source": [
    "### Beating a common-sense baseline"
   ]
  },
  {
   "cell_type": "markdown",
   "metadata": {
    "colab_type": "text"
   },
   "source": [
    "### Things to keep in mind about model evaluation"
   ]
  },
  {
   "cell_type": "markdown",
   "metadata": {
    "colab_type": "text"
   },
   "source": [
    "## Improving model fit"
   ]
  },
  {
   "cell_type": "markdown",
   "metadata": {
    "colab_type": "text"
   },
   "source": [
    "### Tuning key gradient descent parameters"
   ]
  },
  {
   "cell_type": "markdown",
   "metadata": {
    "colab_type": "text"
   },
   "source": [
    "**Training a MNIST model with an incorrectly high learning rate**"
   ]
  },
  {
   "cell_type": "code",
   "execution_count": 5,
   "metadata": {
    "colab_type": "code"
   },
   "outputs": [
    {
     "name": "stdout",
     "output_type": "stream",
     "text": [
      "Epoch 1/10\n",
      "375/375 [==============================] - 2s 4ms/step - loss: 1025.5645 - accuracy: 0.3944 - val_loss: 2.1251 - val_accuracy: 0.2286\n",
      "Epoch 2/10\n",
      "375/375 [==============================] - 1s 4ms/step - loss: 4.8081 - accuracy: 0.2697 - val_loss: 2.5011 - val_accuracy: 0.2629\n",
      "Epoch 3/10\n",
      "375/375 [==============================] - 1s 4ms/step - loss: 3.6155 - accuracy: 0.2837 - val_loss: 1.9929 - val_accuracy: 0.3161\n",
      "Epoch 4/10\n",
      "375/375 [==============================] - 1s 4ms/step - loss: 3.1149 - accuracy: 0.2693 - val_loss: 2.2086 - val_accuracy: 0.2468\n",
      "Epoch 5/10\n",
      "375/375 [==============================] - 2s 5ms/step - loss: 2.6198 - accuracy: 0.2700 - val_loss: 2.0240 - val_accuracy: 0.2921\n",
      "Epoch 6/10\n",
      "375/375 [==============================] - 2s 4ms/step - loss: 2.6134 - accuracy: 0.3033 - val_loss: 3.0692 - val_accuracy: 0.3143\n",
      "Epoch 7/10\n",
      "375/375 [==============================] - 2s 4ms/step - loss: 2.5199 - accuracy: 0.2944 - val_loss: 2.1608 - val_accuracy: 0.3264\n",
      "Epoch 8/10\n",
      "375/375 [==============================] - 2s 4ms/step - loss: 2.4835 - accuracy: 0.2899 - val_loss: 2.2199 - val_accuracy: 0.3198\n",
      "Epoch 9/10\n",
      "375/375 [==============================] - 1s 4ms/step - loss: 2.2313 - accuracy: 0.2900 - val_loss: 2.6217 - val_accuracy: 0.2418\n",
      "Epoch 10/10\n",
      "375/375 [==============================] - 2s 4ms/step - loss: 2.4974 - accuracy: 0.2755 - val_loss: 2.3413 - val_accuracy: 0.3341\n"
     ]
    },
    {
     "data": {
      "text/plain": [
       "<keras.callbacks.History at 0x2abce99cd30>"
      ]
     },
     "execution_count": 5,
     "metadata": {},
     "output_type": "execute_result"
    }
   ],
   "source": [
    "(train_images, train_labels), _ = mnist.load_data()\n",
    "train_images = train_images.reshape((60000, 28 * 28))\n",
    "train_images = train_images.astype(\"float32\") / 255\n",
    "\n",
    "model = keras.Sequential([\n",
    "    layers.Dense(512, activation=\"relu\"),\n",
    "    layers.Dense(10, activation=\"softmax\")\n",
    "])\n",
    "model.compile(optimizer=keras.optimizers.RMSprop(1.),\n",
    "              loss=\"sparse_categorical_crossentropy\",\n",
    "              metrics=[\"accuracy\"])\n",
    "model.fit(train_images, train_labels,\n",
    "          epochs=10,\n",
    "          batch_size=128,\n",
    "          validation_split=0.2)"
   ]
  },
  {
   "cell_type": "markdown",
   "metadata": {
    "colab_type": "text"
   },
   "source": [
    "**The same model with a more appropriate learning rate**"
   ]
  },
  {
   "cell_type": "code",
   "execution_count": 6,
   "metadata": {
    "colab_type": "code"
   },
   "outputs": [
    {
     "name": "stdout",
     "output_type": "stream",
     "text": [
      "Epoch 1/10\n",
      "375/375 [==============================] - 2s 4ms/step - loss: 0.3803 - accuracy: 0.9106 - val_loss: 0.1821 - val_accuracy: 0.9529\n",
      "Epoch 2/10\n",
      "375/375 [==============================] - 2s 4ms/step - loss: 0.1438 - accuracy: 0.9626 - val_loss: 0.1561 - val_accuracy: 0.9651\n",
      "Epoch 3/10\n",
      "375/375 [==============================] - 2s 4ms/step - loss: 0.1171 - accuracy: 0.9729 - val_loss: 0.1736 - val_accuracy: 0.9683\n",
      "Epoch 4/10\n",
      "375/375 [==============================] - 1s 4ms/step - loss: 0.0995 - accuracy: 0.9774 - val_loss: 0.2183 - val_accuracy: 0.9670\n",
      "Epoch 5/10\n",
      "375/375 [==============================] - 2s 4ms/step - loss: 0.0979 - accuracy: 0.9802 - val_loss: 0.2113 - val_accuracy: 0.9712\n",
      "Epoch 6/10\n",
      "375/375 [==============================] - 2s 4ms/step - loss: 0.0854 - accuracy: 0.9838 - val_loss: 0.2290 - val_accuracy: 0.9707\n",
      "Epoch 7/10\n",
      "375/375 [==============================] - 2s 5ms/step - loss: 0.0706 - accuracy: 0.9867 - val_loss: 0.2757 - val_accuracy: 0.9732\n",
      "Epoch 8/10\n",
      "375/375 [==============================] - 2s 4ms/step - loss: 0.0734 - accuracy: 0.9870 - val_loss: 0.2716 - val_accuracy: 0.9730\n",
      "Epoch 9/10\n",
      "375/375 [==============================] - 2s 4ms/step - loss: 0.0680 - accuracy: 0.9887 - val_loss: 0.3296 - val_accuracy: 0.9709\n",
      "Epoch 10/10\n",
      "375/375 [==============================] - 2s 4ms/step - loss: 0.0585 - accuracy: 0.9905 - val_loss: 0.3026 - val_accuracy: 0.9754\n"
     ]
    },
    {
     "data": {
      "text/plain": [
       "<keras.callbacks.History at 0x2abcedb3ac0>"
      ]
     },
     "execution_count": 6,
     "metadata": {},
     "output_type": "execute_result"
    }
   ],
   "source": [
    "model = keras.Sequential([\n",
    "    layers.Dense(512, activation=\"relu\"),\n",
    "    layers.Dense(10, activation=\"softmax\")\n",
    "])\n",
    "model.compile(optimizer=keras.optimizers.RMSprop(1e-2),\n",
    "              loss=\"sparse_categorical_crossentropy\",\n",
    "              metrics=[\"accuracy\"])\n",
    "model.fit(train_images, train_labels,\n",
    "          epochs=10,\n",
    "          batch_size=128,\n",
    "          validation_split=0.2)"
   ]
  },
  {
   "cell_type": "markdown",
   "metadata": {
    "colab_type": "text"
   },
   "source": [
    "### Leveraging better architecture priors"
   ]
  },
  {
   "cell_type": "markdown",
   "metadata": {
    "colab_type": "text"
   },
   "source": [
    "### Increasing model capacity"
   ]
  },
  {
   "cell_type": "markdown",
   "metadata": {
    "colab_type": "text"
   },
   "source": [
    "**A simple logistic regression on MNIST**"
   ]
  },
  {
   "cell_type": "code",
   "execution_count": 7,
   "metadata": {
    "colab_type": "code"
   },
   "outputs": [
    {
     "name": "stdout",
     "output_type": "stream",
     "text": [
      "Epoch 1/20\n",
      "375/375 [==============================] - 1s 961us/step - loss: 0.6673 - accuracy: 0.8369 - val_loss: 0.3591 - val_accuracy: 0.9031\n",
      "Epoch 2/20\n",
      "375/375 [==============================] - 0s 730us/step - loss: 0.3506 - accuracy: 0.9037 - val_loss: 0.3073 - val_accuracy: 0.9143\n",
      "Epoch 3/20\n",
      "375/375 [==============================] - 0s 680us/step - loss: 0.3152 - accuracy: 0.9119 - val_loss: 0.2907 - val_accuracy: 0.9193\n",
      "Epoch 4/20\n",
      "375/375 [==============================] - 0s 698us/step - loss: 0.2993 - accuracy: 0.9161 - val_loss: 0.2803 - val_accuracy: 0.9220\n",
      "Epoch 5/20\n",
      "375/375 [==============================] - 0s 680us/step - loss: 0.2895 - accuracy: 0.9191 - val_loss: 0.2770 - val_accuracy: 0.9215\n",
      "Epoch 6/20\n",
      "375/375 [==============================] - 0s 682us/step - loss: 0.2829 - accuracy: 0.9206 - val_loss: 0.2741 - val_accuracy: 0.9233\n",
      "Epoch 7/20\n",
      "375/375 [==============================] - 0s 672us/step - loss: 0.2781 - accuracy: 0.9222 - val_loss: 0.2694 - val_accuracy: 0.9259\n",
      "Epoch 8/20\n",
      "375/375 [==============================] - 0s 685us/step - loss: 0.2742 - accuracy: 0.9237 - val_loss: 0.2677 - val_accuracy: 0.9273\n",
      "Epoch 9/20\n",
      "375/375 [==============================] - 0s 672us/step - loss: 0.2713 - accuracy: 0.9242 - val_loss: 0.2655 - val_accuracy: 0.9277\n",
      "Epoch 10/20\n",
      "375/375 [==============================] - 0s 688us/step - loss: 0.2687 - accuracy: 0.9251 - val_loss: 0.2642 - val_accuracy: 0.9291\n",
      "Epoch 11/20\n",
      "375/375 [==============================] - 0s 722us/step - loss: 0.2661 - accuracy: 0.9261 - val_loss: 0.2647 - val_accuracy: 0.9287\n",
      "Epoch 12/20\n",
      "375/375 [==============================] - 0s 677us/step - loss: 0.2646 - accuracy: 0.9269 - val_loss: 0.2629 - val_accuracy: 0.9300\n",
      "Epoch 13/20\n",
      "375/375 [==============================] - 0s 674us/step - loss: 0.2632 - accuracy: 0.9275 - val_loss: 0.2621 - val_accuracy: 0.9293\n",
      "Epoch 14/20\n",
      "375/375 [==============================] - 0s 669us/step - loss: 0.2619 - accuracy: 0.9277 - val_loss: 0.2627 - val_accuracy: 0.9293\n",
      "Epoch 15/20\n",
      "375/375 [==============================] - 0s 677us/step - loss: 0.2603 - accuracy: 0.9282 - val_loss: 0.2621 - val_accuracy: 0.9296\n",
      "Epoch 16/20\n",
      "375/375 [==============================] - 0s 674us/step - loss: 0.2594 - accuracy: 0.9286 - val_loss: 0.2616 - val_accuracy: 0.9302\n",
      "Epoch 17/20\n",
      "375/375 [==============================] - 0s 680us/step - loss: 0.2580 - accuracy: 0.9293 - val_loss: 0.2602 - val_accuracy: 0.9308\n",
      "Epoch 18/20\n",
      "375/375 [==============================] - 0s 714us/step - loss: 0.2572 - accuracy: 0.9297 - val_loss: 0.2608 - val_accuracy: 0.9313\n",
      "Epoch 19/20\n",
      "375/375 [==============================] - 0s 714us/step - loss: 0.2562 - accuracy: 0.9293 - val_loss: 0.2627 - val_accuracy: 0.9305\n",
      "Epoch 20/20\n",
      "375/375 [==============================] - 0s 744us/step - loss: 0.2557 - accuracy: 0.9300 - val_loss: 0.2612 - val_accuracy: 0.9305\n"
     ]
    }
   ],
   "source": [
    "model = keras.Sequential([layers.Dense(10, activation=\"softmax\")])\n",
    "model.compile(optimizer=\"rmsprop\",\n",
    "              loss=\"sparse_categorical_crossentropy\",\n",
    "              metrics=[\"accuracy\"])\n",
    "history_small_model = model.fit(\n",
    "    train_images, train_labels,\n",
    "    epochs=20,\n",
    "    batch_size=128,\n",
    "    validation_split=0.2)"
   ]
  },
  {
   "cell_type": "code",
   "execution_count": 8,
   "metadata": {
    "colab_type": "code"
   },
   "outputs": [
    {
     "data": {
      "text/plain": [
       "<matplotlib.legend.Legend at 0x2abdd351cd0>"
      ]
     },
     "execution_count": 8,
     "metadata": {},
     "output_type": "execute_result"
    },
    {
     "data": {
      "image/png": "[encoded data removed]",
      "text/plain": [
       "<Figure size 432x288 with 1 Axes>"
      ]
     },
     "metadata": {
      "needs_background": "light"
     },
     "output_type": "display_data"
    }
   ],
   "source": [
    "import matplotlib.pyplot as plt\n",
    "val_loss = history_small_model.history[\"val_loss\"]\n",
    "epochs = range(1, 21)\n",
    "plt.plot(epochs, val_loss, \"b--\",\n",
    "         label=\"Validation loss\")\n",
    "plt.title(\"Effect of insufficient model capacity on validation loss\")\n",
    "plt.xlabel(\"Epochs\")\n",
    "plt.ylabel(\"Loss\")\n",
    "plt.legend()"
   ]
  },
  {
   "cell_type": "code",
   "execution_count": 9,
   "metadata": {
    "colab_type": "code"
   },
   "outputs": [
    {
     "name": "stdout",
     "output_type": "stream",
     "text": [
      "Epoch 1/20\n",
      "375/375 [==============================] - 1s 2ms/step - loss: 0.3603 - accuracy: 0.8962 - val_loss: 0.1778 - val_accuracy: 0.9498\n",
      "Epoch 2/20\n",
      "375/375 [==============================] - 0s 1ms/step - loss: 0.1578 - accuracy: 0.9528 - val_loss: 0.1354 - val_accuracy: 0.9593\n",
      "Epoch 3/20\n",
      "375/375 [==============================] - 0s 1ms/step - loss: 0.1111 - accuracy: 0.9673 - val_loss: 0.1153 - val_accuracy: 0.9665\n",
      "Epoch 4/20\n",
      "375/375 [==============================] - 0s 1ms/step - loss: 0.0867 - accuracy: 0.9738 - val_loss: 0.1015 - val_accuracy: 0.9707\n",
      "Epoch 5/20\n",
      "375/375 [==============================] - 0s 1ms/step - loss: 0.0701 - accuracy: 0.9791 - val_loss: 0.0980 - val_accuracy: 0.9718\n",
      "Epoch 6/20\n",
      "375/375 [==============================] - 0s 1ms/step - loss: 0.0583 - accuracy: 0.9823 - val_loss: 0.0941 - val_accuracy: 0.9719\n",
      "Epoch 7/20\n",
      "375/375 [==============================] - 0s 1ms/step - loss: 0.0488 - accuracy: 0.9849 - val_loss: 0.0922 - val_accuracy: 0.9734\n",
      "Epoch 8/20\n",
      "375/375 [==============================] - 0s 1ms/step - loss: 0.0397 - accuracy: 0.9883 - val_loss: 0.1015 - val_accuracy: 0.9714\n",
      "Epoch 9/20\n",
      "375/375 [==============================] - 0s 1ms/step - loss: 0.0346 - accuracy: 0.9892 - val_loss: 0.0961 - val_accuracy: 0.9748\n",
      "Epoch 10/20\n",
      "375/375 [==============================] - 0s 1ms/step - loss: 0.0293 - accuracy: 0.9910 - val_loss: 0.1088 - val_accuracy: 0.9728\n",
      "Epoch 11/20\n",
      "375/375 [==============================] - 0s 1ms/step - loss: 0.0248 - accuracy: 0.9922 - val_loss: 0.1021 - val_accuracy: 0.9750\n",
      "Epoch 12/20\n",
      "375/375 [==============================] - 0s 1ms/step - loss: 0.0200 - accuracy: 0.9938 - val_loss: 0.1088 - val_accuracy: 0.9736\n",
      "Epoch 13/20\n",
      "375/375 [==============================] - 0s 1ms/step - loss: 0.0174 - accuracy: 0.9944 - val_loss: 0.1000 - val_accuracy: 0.9772\n",
      "Epoch 14/20\n",
      "375/375 [==============================] - 0s 1ms/step - loss: 0.0145 - accuracy: 0.9956 - val_loss: 0.1061 - val_accuracy: 0.9772\n",
      "Epoch 15/20\n",
      "375/375 [==============================] - 0s 1ms/step - loss: 0.0127 - accuracy: 0.9960 - val_loss: 0.1116 - val_accuracy: 0.9757\n",
      "Epoch 16/20\n",
      "375/375 [==============================] - 0s 1ms/step - loss: 0.0116 - accuracy: 0.9964 - val_loss: 0.1162 - val_accuracy: 0.9762\n",
      "Epoch 17/20\n",
      "375/375 [==============================] - 1s 1ms/step - loss: 0.0092 - accuracy: 0.9971 - val_loss: 0.1198 - val_accuracy: 0.9757\n",
      "Epoch 18/20\n",
      "375/375 [==============================] - 1s 1ms/step - loss: 0.0075 - accuracy: 0.9977 - val_loss: 0.1251 - val_accuracy: 0.9765\n",
      "Epoch 19/20\n",
      "375/375 [==============================] - 0s 1ms/step - loss: 0.0071 - accuracy: 0.9978 - val_loss: 0.1272 - val_accuracy: 0.9760\n",
      "Epoch 20/20\n",
      "375/375 [==============================] - 0s 1ms/step - loss: 0.0063 - accuracy: 0.9981 - val_loss: 0.1455 - val_accuracy: 0.9762\n"
     ]
    }
   ],
   "source": [
    "model = keras.Sequential([\n",
    "    layers.Dense(96, activation=\"relu\"),\n",
    "    layers.Dense(96, activation=\"relu\"),\n",
    "    layers.Dense(10, activation=\"softmax\"),\n",
    "])\n",
    "model.compile(optimizer=\"rmsprop\",\n",
    "              loss=\"sparse_categorical_crossentropy\",\n",
    "              metrics=[\"accuracy\"])\n",
    "history_large_model = model.fit(\n",
    "    train_images, train_labels,\n",
    "    epochs=20,\n",
    "    batch_size=128,\n",
    "    validation_split=0.2)"
   ]
  },
  {
   "cell_type": "markdown",
   "metadata": {
    "colab_type": "text"
   },
   "source": [
    "## Improving generalization"
   ]
  },
  {
   "cell_type": "markdown",
   "metadata": {
    "colab_type": "text"
   },
   "source": [
    "### Dataset curation"
   ]
  },
  {
   "cell_type": "markdown",
   "metadata": {
    "colab_type": "text"
   },
   "source": [
    "### Feature engineering"
   ]
  },
  {
   "cell_type": "markdown",
   "metadata": {
    "colab_type": "text"
   },
   "source": [
    "### Using early stopping"
   ]
  },
  {
   "cell_type": "markdown",
   "metadata": {
    "colab_type": "text"
   },
   "source": [
    "### Regularizing your model"
   ]
  },
  {
   "cell_type": "markdown",
   "metadata": {
    "colab_type": "text"
   },
   "source": [
    "#### Reducing the network's size"
   ]
  },
  {
   "cell_type": "markdown",
   "metadata": {
    "colab_type": "text"
   },
   "source": [
    "**Original model**"
   ]
  },
  {
   "cell_type": "code",
   "execution_count": 10,
   "metadata": {
    "colab_type": "code"
   },
   "outputs": [
    {
     "name": "stdout",
     "output_type": "stream",
     "text": [
      "Epoch 1/20\n",
      "30/30 [==============================] - 1s 17ms/step - loss: 0.5229 - accuracy: 0.7689 - val_loss: 0.3902 - val_accuracy: 0.8685\n",
      "Epoch 2/20\n",
      "30/30 [==============================] - 0s 8ms/step - loss: 0.3072 - accuracy: 0.9006 - val_loss: 0.3035 - val_accuracy: 0.8877\n",
      "Epoch 3/20\n",
      "30/30 [==============================] - 0s 8ms/step - loss: 0.2225 - accuracy: 0.9269 - val_loss: 0.2767 - val_accuracy: 0.8922\n",
      "Epoch 4/20\n",
      "30/30 [==============================] - 0s 10ms/step - loss: 0.1764 - accuracy: 0.9421 - val_loss: 0.2833 - val_accuracy: 0.8864\n",
      "Epoch 5/20\n",
      "30/30 [==============================] - 0s 8ms/step - loss: 0.1478 - accuracy: 0.9523 - val_loss: 0.2791 - val_accuracy: 0.8889\n",
      "Epoch 6/20\n",
      "30/30 [==============================] - 0s 8ms/step - loss: 0.1193 - accuracy: 0.9621 - val_loss: 0.2905 - val_accuracy: 0.8873\n",
      "Epoch 7/20\n",
      "30/30 [==============================] - 0s 8ms/step - loss: 0.1009 - accuracy: 0.9697 - val_loss: 0.3218 - val_accuracy: 0.8813\n",
      "Epoch 8/20\n",
      "30/30 [==============================] - 0s 10ms/step - loss: 0.0845 - accuracy: 0.9748 - val_loss: 0.3286 - val_accuracy: 0.8817\n",
      "Epoch 9/20\n",
      "30/30 [==============================] - 0s 8ms/step - loss: 0.0703 - accuracy: 0.9805 - val_loss: 0.3964 - val_accuracy: 0.8715\n",
      "Epoch 10/20\n",
      "30/30 [==============================] - 0s 7ms/step - loss: 0.0587 - accuracy: 0.9839 - val_loss: 0.3722 - val_accuracy: 0.8775\n",
      "Epoch 11/20\n",
      "30/30 [==============================] - 0s 8ms/step - loss: 0.0491 - accuracy: 0.9869 - val_loss: 0.4128 - val_accuracy: 0.8732\n",
      "Epoch 12/20\n",
      "30/30 [==============================] - 0s 10ms/step - loss: 0.0395 - accuracy: 0.9907 - val_loss: 0.4257 - val_accuracy: 0.8748\n",
      "Epoch 13/20\n",
      "30/30 [==============================] - 0s 8ms/step - loss: 0.0323 - accuracy: 0.9928 - val_loss: 0.4597 - val_accuracy: 0.8740\n",
      "Epoch 14/20\n",
      "30/30 [==============================] - 0s 8ms/step - loss: 0.0280 - accuracy: 0.9936 - val_loss: 0.4940 - val_accuracy: 0.8708\n",
      "Epoch 15/20\n",
      "30/30 [==============================] - 0s 8ms/step - loss: 0.0191 - accuracy: 0.9969 - val_loss: 0.5736 - val_accuracy: 0.8624\n",
      "Epoch 16/20\n",
      "30/30 [==============================] - 0s 10ms/step - loss: 0.0165 - accuracy: 0.9977 - val_loss: 0.5517 - val_accuracy: 0.8683\n",
      "Epoch 17/20\n",
      "30/30 [==============================] - 0s 8ms/step - loss: 0.0140 - accuracy: 0.9979 - val_loss: 0.5847 - val_accuracy: 0.8673\n",
      "Epoch 18/20\n",
      "30/30 [==============================] - 0s 7ms/step - loss: 0.0117 - accuracy: 0.9983 - val_loss: 0.6141 - val_accuracy: 0.8665\n",
      "Epoch 19/20\n",
      "30/30 [==============================] - 0s 8ms/step - loss: 0.0081 - accuracy: 0.9992 - val_loss: 0.6469 - val_accuracy: 0.8645\n",
      "Epoch 20/20\n",
      "30/30 [==============================] - 0s 9ms/step - loss: 0.0095 - accuracy: 0.9982 - val_loss: 0.6779 - val_accuracy: 0.8654\n"
     ]
    }
   ],
   "source": [
    "from tensorflow.keras.datasets import imdb\n",
    "(train_data, train_labels), _ = imdb.load_data(num_words=10000)\n",
    "\n",
    "def vectorize_sequences(sequences, dimension=10000):\n",
    "    results = np.zeros((len(sequences), dimension))\n",
    "    for i, sequence in enumerate(sequences):\n",
    "        results[i, sequence] = 1.\n",
    "    return results\n",
    "train_data = vectorize_sequences(train_data)\n",
    "\n",
    "model = keras.Sequential([\n",
    "    layers.Dense(16, activation=\"relu\"),\n",
    "    layers.Dense(16, activation=\"relu\"),\n",
    "    layers.Dense(1, activation=\"sigmoid\")\n",
    "])\n",
    "model.compile(optimizer=\"rmsprop\",\n",
    "              loss=\"binary_crossentropy\",\n",
    "              metrics=[\"accuracy\"])\n",
    "history_original = model.fit(train_data, train_labels,\n",
    "                             epochs=20, batch_size=512, validation_split=0.4)"
   ]
  },
  {
   "cell_type": "markdown",
   "metadata": {
    "colab_type": "text"
   },
   "source": [
    "**Version of the model with lower capacity**"
   ]
  },
  {
   "cell_type": "code",
   "execution_count": 11,
   "metadata": {
    "colab_type": "code"
   },
   "outputs": [
    {
     "name": "stdout",
     "output_type": "stream",
     "text": [
      "Epoch 1/20\n",
      "30/30 [==============================] - 1s 14ms/step - loss: 0.6113 - accuracy: 0.6013 - val_loss: 0.5579 - val_accuracy: 0.7004\n",
      "Epoch 2/20\n",
      "30/30 [==============================] - 0s 8ms/step - loss: 0.5200 - accuracy: 0.7889 - val_loss: 0.5139 - val_accuracy: 0.7872\n",
      "Epoch 3/20\n",
      "30/30 [==============================] - 0s 8ms/step - loss: 0.4719 - accuracy: 0.8578 - val_loss: 0.4993 - val_accuracy: 0.7889\n",
      "Epoch 4/20\n",
      "30/30 [==============================] - 0s 9ms/step - loss: 0.4372 - accuracy: 0.8940 - val_loss: 0.4729 - val_accuracy: 0.8394\n",
      "Epoch 5/20\n",
      "30/30 [==============================] - 0s 7ms/step - loss: 0.4075 - accuracy: 0.9179 - val_loss: 0.4589 - val_accuracy: 0.8530\n",
      "Epoch 6/20\n",
      "30/30 [==============================] - 0s 10ms/step - loss: 0.3784 - accuracy: 0.9371 - val_loss: 0.4320 - val_accuracy: 0.8764\n",
      "Epoch 7/20\n",
      "30/30 [==============================] - 0s 8ms/step - loss: 0.3387 - accuracy: 0.9533 - val_loss: 0.4127 - val_accuracy: 0.8661\n",
      "Epoch 8/20\n",
      "30/30 [==============================] - 0s 10ms/step - loss: 0.2854 - accuracy: 0.9597 - val_loss: 0.3655 - val_accuracy: 0.8798\n",
      "Epoch 9/20\n",
      "30/30 [==============================] - 0s 7ms/step - loss: 0.2261 - accuracy: 0.9669 - val_loss: 0.3242 - val_accuracy: 0.8870\n",
      "Epoch 10/20\n",
      "30/30 [==============================] - 0s 9ms/step - loss: 0.1776 - accuracy: 0.9714 - val_loss: 0.3093 - val_accuracy: 0.8875\n",
      "Epoch 11/20\n",
      "30/30 [==============================] - 0s 7ms/step - loss: 0.1441 - accuracy: 0.9739 - val_loss: 0.3144 - val_accuracy: 0.8823\n",
      "Epoch 12/20\n",
      "30/30 [==============================] - 0s 10ms/step - loss: 0.1216 - accuracy: 0.9772 - val_loss: 0.3202 - val_accuracy: 0.8811\n",
      "Epoch 13/20\n",
      "30/30 [==============================] - 0s 7ms/step - loss: 0.1047 - accuracy: 0.9797 - val_loss: 0.3261 - val_accuracy: 0.8818\n",
      "Epoch 14/20\n",
      "30/30 [==============================] - 0s 9ms/step - loss: 0.0915 - accuracy: 0.9820 - val_loss: 0.3238 - val_accuracy: 0.8812\n",
      "Epoch 15/20\n",
      "30/30 [==============================] - 0s 7ms/step - loss: 0.0814 - accuracy: 0.9843 - val_loss: 0.3395 - val_accuracy: 0.8817\n",
      "Epoch 16/20\n",
      "30/30 [==============================] - 0s 10ms/step - loss: 0.0727 - accuracy: 0.9863 - val_loss: 0.3501 - val_accuracy: 0.8805\n",
      "Epoch 17/20\n",
      "30/30 [==============================] - 0s 8ms/step - loss: 0.0655 - accuracy: 0.9881 - val_loss: 0.3630 - val_accuracy: 0.8790\n",
      "Epoch 18/20\n",
      "30/30 [==============================] - 0s 9ms/step - loss: 0.0588 - accuracy: 0.9896 - val_loss: 0.3922 - val_accuracy: 0.8760\n",
      "Epoch 19/20\n",
      "30/30 [==============================] - 0s 7ms/step - loss: 0.0544 - accuracy: 0.9901 - val_loss: 0.4000 - val_accuracy: 0.8762\n",
      "Epoch 20/20\n",
      "30/30 [==============================] - 0s 8ms/step - loss: 0.0485 - accuracy: 0.9918 - val_loss: 0.4115 - val_accuracy: 0.8754\n"
     ]
    }
   ],
   "source": [
    "model = keras.Sequential([\n",
    "    layers.Dense(4, activation=\"relu\"),\n",
    "    layers.Dense(4, activation=\"relu\"),\n",
    "    layers.Dense(1, activation=\"sigmoid\")\n",
    "])\n",
    "model.compile(optimizer=\"rmsprop\",\n",
    "              loss=\"binary_crossentropy\",\n",
    "              metrics=[\"accuracy\"])\n",
    "history_smaller_model = model.fit(\n",
    "    train_data, train_labels,\n",
    "    epochs=20, batch_size=512, validation_split=0.4)"
   ]
  },
  {
   "cell_type": "markdown",
   "metadata": {
    "colab_type": "text"
   },
   "source": [
    "**Version of the model with higher capacity**"
   ]
  },
  {
   "cell_type": "code",
   "execution_count": 12,
   "metadata": {
    "colab_type": "code"
   },
   "outputs": [
    {
     "name": "stdout",
     "output_type": "stream",
     "text": [
      "Epoch 1/20\n",
      "30/30 [==============================] - 2s 51ms/step - loss: 0.5445 - accuracy: 0.7473 - val_loss: 0.2976 - val_accuracy: 0.8856\n",
      "Epoch 2/20\n",
      "30/30 [==============================] - 1s 44ms/step - loss: 0.2604 - accuracy: 0.8945 - val_loss: 0.2848 - val_accuracy: 0.8843\n",
      "Epoch 3/20\n",
      "30/30 [==============================] - 1s 43ms/step - loss: 0.1480 - accuracy: 0.9450 - val_loss: 0.2844 - val_accuracy: 0.8936\n",
      "Epoch 4/20\n",
      "30/30 [==============================] - 1s 42ms/step - loss: 0.0744 - accuracy: 0.9739 - val_loss: 0.3316 - val_accuracy: 0.8844\n",
      "Epoch 5/20\n",
      "30/30 [==============================] - 1s 42ms/step - loss: 0.1011 - accuracy: 0.9782 - val_loss: 0.3291 - val_accuracy: 0.8831\n",
      "Epoch 6/20\n",
      "30/30 [==============================] - 1s 42ms/step - loss: 0.0064 - accuracy: 0.9996 - val_loss: 0.4952 - val_accuracy: 0.8889\n",
      "Epoch 7/20\n",
      "30/30 [==============================] - 1s 42ms/step - loss: 8.7057e-04 - accuracy: 0.9999 - val_loss: 0.5850 - val_accuracy: 0.8887\n",
      "Epoch 8/20\n",
      "30/30 [==============================] - 1s 42ms/step - loss: 1.2557e-04 - accuracy: 1.0000 - val_loss: 0.7069 - val_accuracy: 0.8872\n",
      "Epoch 9/20\n",
      "30/30 [==============================] - 1s 42ms/step - loss: 1.9380e-05 - accuracy: 1.0000 - val_loss: 0.8218 - val_accuracy: 0.8884\n",
      "Epoch 10/20\n",
      "30/30 [==============================] - 1s 41ms/step - loss: 4.4646e-06 - accuracy: 1.0000 - val_loss: 0.9189 - val_accuracy: 0.8878\n",
      "Epoch 11/20\n",
      "30/30 [==============================] - 1s 42ms/step - loss: 1.1404e-06 - accuracy: 1.0000 - val_loss: 0.9998 - val_accuracy: 0.8877\n",
      "Epoch 12/20\n",
      "30/30 [==============================] - 1s 42ms/step - loss: 3.5315e-07 - accuracy: 1.0000 - val_loss: 1.0941 - val_accuracy: 0.8870\n",
      "Epoch 13/20\n",
      "30/30 [==============================] - 1s 42ms/step - loss: 1.2562e-07 - accuracy: 1.0000 - val_loss: 1.1469 - val_accuracy: 0.8875\n",
      "Epoch 14/20\n",
      "30/30 [==============================] - 1s 42ms/step - loss: 5.4071e-08 - accuracy: 1.0000 - val_loss: 1.1801 - val_accuracy: 0.8865\n",
      "Epoch 15/20\n",
      "30/30 [==============================] - 1s 42ms/step - loss: 3.0104e-08 - accuracy: 1.0000 - val_loss: 1.2230 - val_accuracy: 0.8880\n",
      "Epoch 16/20\n",
      "30/30 [==============================] - 1s 41ms/step - loss: 2.0037e-08 - accuracy: 1.0000 - val_loss: 1.2432 - val_accuracy: 0.8876\n",
      "Epoch 17/20\n",
      "30/30 [==============================] - 1s 41ms/step - loss: 1.4986e-08 - accuracy: 1.0000 - val_loss: 1.2621 - val_accuracy: 0.8879\n",
      "Epoch 18/20\n",
      "30/30 [==============================] - 1s 42ms/step - loss: 1.2002e-08 - accuracy: 1.0000 - val_loss: 1.2739 - val_accuracy: 0.8874\n",
      "Epoch 19/20\n",
      "30/30 [==============================] - 1s 42ms/step - loss: 9.9763e-09 - accuracy: 1.0000 - val_loss: 1.2840 - val_accuracy: 0.8877\n",
      "Epoch 20/20\n",
      "30/30 [==============================] - 1s 41ms/step - loss: 8.5640e-09 - accuracy: 1.0000 - val_loss: 1.2935 - val_accuracy: 0.8875\n"
     ]
    }
   ],
   "source": [
    "model = keras.Sequential([\n",
    "    layers.Dense(512, activation=\"relu\"),\n",
    "    layers.Dense(512, activation=\"relu\"),\n",
    "    layers.Dense(1, activation=\"sigmoid\")\n",
    "])\n",
    "model.compile(optimizer=\"rmsprop\",\n",
    "              loss=\"binary_crossentropy\",\n",
    "              metrics=[\"accuracy\"])\n",
    "history_larger_model = model.fit(\n",
    "    train_data, train_labels,\n",
    "    epochs=20, batch_size=512, validation_split=0.4)"
   ]
  },
  {
   "cell_type": "markdown",
   "metadata": {
    "colab_type": "text"
   },
   "source": [
    "#### Adding weight regularization"
   ]
  },
  {
   "cell_type": "markdown",
   "metadata": {
    "colab_type": "text"
   },
   "source": [
    "**Adding L2 weight regularization to the model**"
   ]
  },
  {
   "cell_type": "code",
   "execution_count": 13,
   "metadata": {
    "colab_type": "code"
   },
   "outputs": [
    {
     "name": "stdout",
     "output_type": "stream",
     "text": [
      "Epoch 1/20\n",
      "30/30 [==============================] - 1s 15ms/step - loss: 0.5850 - accuracy: 0.8007 - val_loss: 0.4693 - val_accuracy: 0.8677\n",
      "Epoch 2/20\n",
      "30/30 [==============================] - 0s 8ms/step - loss: 0.3996 - accuracy: 0.8961 - val_loss: 0.4025 - val_accuracy: 0.8763\n",
      "Epoch 3/20\n",
      "30/30 [==============================] - 0s 8ms/step - loss: 0.3346 - accuracy: 0.9147 - val_loss: 0.3629 - val_accuracy: 0.8891\n",
      "Epoch 4/20\n",
      "30/30 [==============================] - 0s 8ms/step - loss: 0.3016 - accuracy: 0.9227 - val_loss: 0.3696 - val_accuracy: 0.8816\n",
      "Epoch 5/20\n",
      "30/30 [==============================] - 0s 8ms/step - loss: 0.2809 - accuracy: 0.9292 - val_loss: 0.3521 - val_accuracy: 0.8873\n",
      "Epoch 6/20\n",
      "30/30 [==============================] - 0s 8ms/step - loss: 0.2639 - accuracy: 0.9344 - val_loss: 0.3526 - val_accuracy: 0.8863\n",
      "Epoch 7/20\n",
      "30/30 [==============================] - 0s 8ms/step - loss: 0.2494 - accuracy: 0.9408 - val_loss: 0.3582 - val_accuracy: 0.8838\n",
      "Epoch 8/20\n",
      "30/30 [==============================] - 0s 8ms/step - loss: 0.2457 - accuracy: 0.9399 - val_loss: 0.3600 - val_accuracy: 0.8847\n",
      "Epoch 9/20\n",
      "30/30 [==============================] - 0s 8ms/step - loss: 0.2375 - accuracy: 0.9435 - val_loss: 0.3784 - val_accuracy: 0.8791\n",
      "Epoch 10/20\n",
      "30/30 [==============================] - 0s 8ms/step - loss: 0.2283 - accuracy: 0.9485 - val_loss: 0.3880 - val_accuracy: 0.8755\n",
      "Epoch 11/20\n",
      "30/30 [==============================] - 0s 8ms/step - loss: 0.2250 - accuracy: 0.9509 - val_loss: 0.3721 - val_accuracy: 0.8813\n",
      "Epoch 12/20\n",
      "30/30 [==============================] - 0s 8ms/step - loss: 0.2201 - accuracy: 0.9521 - val_loss: 0.3752 - val_accuracy: 0.8805\n",
      "Epoch 13/20\n",
      "30/30 [==============================] - 0s 8ms/step - loss: 0.2194 - accuracy: 0.9508 - val_loss: 0.3850 - val_accuracy: 0.8801\n",
      "Epoch 14/20\n",
      "30/30 [==============================] - 0s 8ms/step - loss: 0.2114 - accuracy: 0.9540 - val_loss: 0.4055 - val_accuracy: 0.8735\n",
      "Epoch 15/20\n",
      "30/30 [==============================] - 0s 8ms/step - loss: 0.2111 - accuracy: 0.9562 - val_loss: 0.4005 - val_accuracy: 0.8745\n",
      "Epoch 16/20\n",
      "30/30 [==============================] - 0s 8ms/step - loss: 0.2062 - accuracy: 0.9549 - val_loss: 0.4217 - val_accuracy: 0.8696\n",
      "Epoch 17/20\n",
      "30/30 [==============================] - 0s 8ms/step - loss: 0.2029 - accuracy: 0.9572 - val_loss: 0.3960 - val_accuracy: 0.8763\n",
      "Epoch 18/20\n",
      "30/30 [==============================] - 0s 8ms/step - loss: 0.2028 - accuracy: 0.9561 - val_loss: 0.4055 - val_accuracy: 0.8759\n",
      "Epoch 19/20\n",
      "30/30 [==============================] - 0s 8ms/step - loss: 0.2010 - accuracy: 0.9589 - val_loss: 0.4476 - val_accuracy: 0.8666\n",
      "Epoch 20/20\n",
      "30/30 [==============================] - 0s 7ms/step - loss: 0.1953 - accuracy: 0.9613 - val_loss: 0.4087 - val_accuracy: 0.8750\n"
     ]
    }
   ],
   "source": [
    "from tensorflow.keras import regularizers\n",
    "model = keras.Sequential([\n",
    "    layers.Dense(16,\n",
    "                 kernel_regularizer=regularizers.l2(0.002),\n",
    "                 activation=\"relu\"),\n",
    "    layers.Dense(16,\n",
    "                 kernel_regularizer=regularizers.l2(0.002),\n",
    "                 activation=\"relu\"),\n",
    "    layers.Dense(1, activation=\"sigmoid\")\n",
    "])\n",
    "model.compile(optimizer=\"rmsprop\",\n",
    "              loss=\"binary_crossentropy\",\n",
    "              metrics=[\"accuracy\"])\n",
    "history_l2_reg = model.fit(\n",
    "    train_data, train_labels,\n",
    "    epochs=20, batch_size=512, validation_split=0.4)"
   ]
  },
  {
   "cell_type": "markdown",
   "metadata": {
    "colab_type": "text"
   },
   "source": [
    "**Different weight regularizers available in Keras**"
   ]
  },
  {
   "cell_type": "code",
   "execution_count": 14,
   "metadata": {
    "colab_type": "code"
   },
   "outputs": [
    {
     "data": {
      "text/plain": [
       "<keras.regularizers.L1L2 at 0x2abde4e5bb0>"
      ]
     },
     "execution_count": 14,
     "metadata": {},
     "output_type": "execute_result"
    }
   ],
   "source": [
    "from tensorflow.keras import regularizers\n",
    "regularizers.l1(0.001)\n",
    "regularizers.l1_l2(l1=0.001, l2=0.001)"
   ]
  },
  {
   "cell_type": "markdown",
   "metadata": {
    "colab_type": "text"
   },
   "source": [
    "#### Adding dropout"
   ]
  },
  {
   "cell_type": "markdown",
   "metadata": {
    "colab_type": "text"
   },
   "source": [
    "**Adding dropout to the IMDB model**"
   ]
  },
  {
   "cell_type": "code",
   "execution_count": 15,
   "metadata": {
    "colab_type": "code"
   },
   "outputs": [
    {
     "name": "stdout",
     "output_type": "stream",
     "text": [
      "Epoch 1/20\n",
      "30/30 [==============================] - 1s 25ms/step - loss: 0.6432 - accuracy: 0.6165 - val_loss: 0.5380 - val_accuracy: 0.8469\n",
      "Epoch 2/20\n",
      "30/30 [==============================] - 0s 8ms/step - loss: 0.5332 - accuracy: 0.7515 - val_loss: 0.4350 - val_accuracy: 0.8600\n",
      "Epoch 3/20\n",
      "30/30 [==============================] - 0s 8ms/step - loss: 0.4508 - accuracy: 0.8064 - val_loss: 0.3514 - val_accuracy: 0.8852\n",
      "Epoch 4/20\n",
      "30/30 [==============================] - 0s 11ms/step - loss: 0.3861 - accuracy: 0.8501 - val_loss: 0.3133 - val_accuracy: 0.8806\n",
      "Epoch 5/20\n",
      "30/30 [==============================] - 0s 8ms/step - loss: 0.3309 - accuracy: 0.8781 - val_loss: 0.2894 - val_accuracy: 0.8881\n",
      "Epoch 6/20\n",
      "30/30 [==============================] - 0s 8ms/step - loss: 0.2896 - accuracy: 0.8978 - val_loss: 0.2773 - val_accuracy: 0.8929\n",
      "Epoch 7/20\n",
      "30/30 [==============================] - 0s 11ms/step - loss: 0.2534 - accuracy: 0.9162 - val_loss: 0.2741 - val_accuracy: 0.8936\n",
      "Epoch 8/20\n",
      "30/30 [==============================] - 0s 8ms/step - loss: 0.2277 - accuracy: 0.9273 - val_loss: 0.2812 - val_accuracy: 0.8918\n",
      "Epoch 9/20\n",
      "30/30 [==============================] - 0s 8ms/step - loss: 0.1974 - accuracy: 0.9383 - val_loss: 0.2902 - val_accuracy: 0.8907\n",
      "Epoch 10/20\n",
      "30/30 [==============================] - 0s 11ms/step - loss: 0.1792 - accuracy: 0.9462 - val_loss: 0.3074 - val_accuracy: 0.8896\n",
      "Epoch 11/20\n",
      "30/30 [==============================] - 0s 9ms/step - loss: 0.1620 - accuracy: 0.9494 - val_loss: 0.3268 - val_accuracy: 0.8879\n",
      "Epoch 12/20\n",
      "30/30 [==============================] - 0s 8ms/step - loss: 0.1398 - accuracy: 0.9565 - val_loss: 0.3638 - val_accuracy: 0.8875\n",
      "Epoch 13/20\n",
      "30/30 [==============================] - 0s 8ms/step - loss: 0.1282 - accuracy: 0.9625 - val_loss: 0.3811 - val_accuracy: 0.8872\n",
      "Epoch 14/20\n",
      "30/30 [==============================] - 0s 11ms/step - loss: 0.1142 - accuracy: 0.9666 - val_loss: 0.4024 - val_accuracy: 0.8879\n",
      "Epoch 15/20\n",
      "30/30 [==============================] - 0s 9ms/step - loss: 0.1045 - accuracy: 0.9683 - val_loss: 0.4244 - val_accuracy: 0.8865\n",
      "Epoch 16/20\n",
      "30/30 [==============================] - 0s 8ms/step - loss: 0.1031 - accuracy: 0.9710 - val_loss: 0.4712 - val_accuracy: 0.8859\n",
      "Epoch 17/20\n",
      "30/30 [==============================] - 0s 8ms/step - loss: 0.0934 - accuracy: 0.9737 - val_loss: 0.4844 - val_accuracy: 0.8853\n",
      "Epoch 18/20\n",
      "30/30 [==============================] - 0s 11ms/step - loss: 0.0860 - accuracy: 0.9771 - val_loss: 0.5246 - val_accuracy: 0.8831\n",
      "Epoch 19/20\n",
      "30/30 [==============================] - 0s 9ms/step - loss: 0.0829 - accuracy: 0.9773 - val_loss: 0.5545 - val_accuracy: 0.8842\n",
      "Epoch 20/20\n",
      "30/30 [==============================] - 0s 7ms/step - loss: 0.0806 - accuracy: 0.9786 - val_loss: 0.5792 - val_accuracy: 0.8830\n"
     ]
    }
   ],
   "source": [
    "model = keras.Sequential([\n",
    "    layers.Dense(16, activation=\"relu\"),\n",
    "    layers.Dropout(0.5),\n",
    "    layers.Dense(16, activation=\"relu\"),\n",
    "    layers.Dropout(0.5),\n",
    "    layers.Dense(1, activation=\"sigmoid\")\n",
    "])\n",
    "model.compile(optimizer=\"rmsprop\",\n",
    "              loss=\"binary_crossentropy\",\n",
    "              metrics=[\"accuracy\"])\n",
    "history_dropout = model.fit(\n",
    "    train_data, train_labels,\n",
    "    epochs=20, batch_size=512, validation_split=0.4)"
   ]
  },
  {
   "cell_type": "markdown",
   "metadata": {
    "colab_type": "text"
   },
   "source": [
    "## Summary"
   ]
  }
 ],
 "metadata": {
  "colab": {
   "collapsed_sections": [],
   "name": "chapter05_fundamentals-of-ml.i",
   "private_outputs": false,
   "provenance": [],
   "toc_visible": true
  },
  "kernelspec": {
   "display_name": "Python 3 (ipykernel)",
   "language": "python",
   "name": "python3"
  },
  "language_info": {
   "codemirror_mode": {
    "name": "ipython",
    "version": 3
   },
   "file_extension": ".py",
   "mimetype": "text/x-python",
   "name": "python",
   "nbconvert_exporter": "python",
   "pygments_lexer": "ipython3",
   "version": "3.9.12"
  }
 },
 "nbformat": 4,
 "nbformat_minor": 1
}
